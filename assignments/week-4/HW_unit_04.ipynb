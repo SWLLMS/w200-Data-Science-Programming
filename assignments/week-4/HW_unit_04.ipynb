{
 "cells": [
  {
   "cell_type": "markdown",
   "metadata": {},
   "source": [
    "## Week 4 Assignment - W200 Introduction to Data Science Programming, UC Berkeley MIDS"
   ]
  },
  {
   "cell_type": "markdown",
   "metadata": {},
   "source": [
    "Write code in this jupyter Notebook to solve the following problems. Please upload this **Notebook** with your solutions to your GitHub repository in your SUBMISSIONS/week_04 folder by 11:59PM PST the night before class."
   ]
  },
  {
   "cell_type": "markdown",
   "metadata": {},
   "source": [
    "## Objectives:\n",
    "\n",
    "- More practice with for & while loops, if statements and gathering user inputs\n",
    "- Demonstrate use of Python list comprehensions.\n",
    "- Understand the pseudo-coding and algorithm complexities"
   ]
  },
  {
   "cell_type": "markdown",
   "metadata": {},
   "source": [
    "## General Guidelines:\n",
    "\n",
    "- In each code block, do NOT delete the # Q4-x-x comment at the top of a cell (it is needed for the auto-grading!)\n",
    "- Limited user input validation and error checking is encouraged on this assignment. Each question below will indicate the type of input that you can expect. (for example, if the question states the input will be an integer, you can expect the user to input an integer and do not need to check to ensure it is an integer versus a float or a string)\n",
    "- Adding comments in your code is strongly suggested but won't be graded.\n",
    "- The examples given are samples of how we will test/grade your code. Please ensure your code outputs the same information."
   ]
  },
  {
   "cell_type": "markdown",
   "metadata": {},
   "source": [
    "## Grading Rubric\n",
    "\n",
    "General grading rubric guidelines / philosophy:\n",
    "\n",
    "- The total possible points will be shown for each question\n",
    "- Please read each question carefully to understand the requirements\n",
    "- Points for each question are rewarded based on how well your code fulfills those requirements\n",
    "- All of the problems have an example given to help show what is needed and how to format the answer\n",
    "- For the rest of the questions, its up to you to determine the requirements and code them!\n",
    "\n",
    "More on grading:\n",
    "- If the question is blank / not attempted, no points will be given\n",
    "- Most points are given for code that runs (does not crash) and fulfills the requirements\n",
    "- Minor points are given for formatting the answer in accordance with the question"
   ]
  },
  {
   "cell_type": "markdown",
   "metadata": {},
   "source": [
    "## 4-1. Loops\n",
    "### 4-1-1. For Loops (10 points)\n",
    "\n",
    "Write a script that prompts the user for two words (two, one-word strings).  Print all the **unique** letters that are common to both words, in alphabetical order, using **for** loops in your solution.\n",
    "\n",
    "For example:\n",
    "```\n",
    "Enter one word: Home\n",
    "Enter another word: meter\n",
    "\n",
    "Letters in common: em\n",
    "```"
   ]
  },
  {
   "cell_type": "code",
   "execution_count": 187,
   "metadata": {},
   "outputs": [
    {
     "name": "stdout",
     "output_type": "stream",
     "text": [
      "Enter one word: home \n",
      "Enter another word: meter\n",
      "Letters in common:  ['e', 'm']"
     ]
    }
   ],
   "source": [
    "# Q4-1-1 Grading Tag:\n",
    "oneword = sorted(set(input('Enter one word: ').lower()))\n",
    "anoword = sorted(set(input('Enter another word: ').lower()))\n",
    "\n",
    "comword = []\n",
    "\n",
    "for l in oneword:\n",
    "    for m in anoword:\n",
    "        if l == m:\n",
    "            comword.append(l)\n",
    "    #for m in oneword and anoword:\n",
    "    \n",
    "print('Letters in common: ', comword, end=\"\")\n"
   ]
  },
  {
   "cell_type": "markdown",
   "metadata": {},
   "source": [
    "### 4-1-2. A Game of Chess (20 points: 5 points Pseudo-code / 15 points Chess)\n",
    "You place a pawn at the top left corner of an n-by-n chess board, labeled (0,0).  For each move, you have a choice: move the pawn down a single space, or move the pawn down one space and right one space.  That is, if the pawn is at position (i,j), you can move the pawn to (i+1,j) or (i+1, j+1).\n",
    "\n",
    "Ask the user for the size of a chessboard, n (**integer**).  Find the number of different paths **starting from (0,0)** that the pawn could take to reach each position on the chess board.  For example, there are two different paths the pawn can take to reach (2,1). Look at the diagrams below to convince yourself of this. You can see the four paths that you can take by move 2.\n",
    "\n",
    "   Start| Move 1   |Move 2\n",
    "\n",
    "  (0,0)  -> (1,0)   ->(2,1)\n",
    "  \n",
    "  (0,0)  -> (1,0)   ->(2,0)\n",
    "  \n",
    "  (0,0)  -> (1,1)   ->(2,1)\n",
    "  \n",
    "  (0,0)  -> (1,1)   ->(2,2)\n",
    "\n",
    "Print the board with the number of ways to reach each square labeled as shown below.\n",
    "\n",
    "For example:\n",
    "```\n",
    "Enter a board size: 4\n",
    "\n",
    "1 0 0 0\n",
    "1 1 0 0\n",
    "1 2 1 0\n",
    "1 3 3 1\n",
    "```\n",
    "\n",
    "#### Please create pseudocode for this problem in the first cell then implement your solution in the second cell."
   ]
  },
  {
   "cell_type": "code",
   "execution_count": null,
   "metadata": {
    "collapsed": true
   },
   "outputs": [],
   "source": [
    "# Pseudocode Here\n",
    "\n",
    "#user inputs int(n) that creates an n-by-n chess board. \n",
    "#The pawn starts at location (0,0) at the top left corner of chess board.\n",
    "\n",
    "# move the pawn down a single space or move the pawn down one space and right one space \n",
    "#j=1 - one move to poisiton (1,0)\n",
    "#for the pawn in the range 1 of the n-by-n board add 1\n",
    "#count how many times to reach all other positions on board\n",
    "\n",
    "#once all squares are visited print the number of paths to reach each square\n",
    "#start = 0.0 \n",
    "#notation for position of pawn (i,j)\n",
    "# move the pawn to (i+1,j) or (i+1, j+1)\n",
    "#chessboard = n"
   ]
  },
  {
   "cell_type": "code",
   "execution_count": 279,
   "metadata": {},
   "outputs": [
    {
     "name": "stdout",
     "output_type": "stream",
     "text": [
      "Enter a row number: 5\n",
      "1 0 0 0 0 \n",
      "1 1 0 0 0 \n",
      "1 2 1 0 0 \n",
      "1 3 3 1 0 \n",
      "1 4 6 4 1 \n"
     ]
    }
   ],
   "source": [
    "# Q4-1-2 Grading Tag:\n",
    "\n",
    "# Implement Here\n",
    "while True:\n",
    "    try:\n",
    "        n = int(input(\"Enter a row number: \"))       \n",
    "    except ValueError:\n",
    "        print(\"Not an integer! Try again.\")\n",
    "        continue\n",
    "    else:\n",
    "        break \n",
    "\n",
    "for pawn in range(1, n + 1):  \n",
    "        j = 1;  \n",
    "        for i in range(1, n + 1):    \n",
    "            print(j, end = \" \")  \n",
    "            j = int(j * (pawn - i) / i) \n",
    "        print(\"\")"
   ]
  },
  {
   "cell_type": "markdown",
   "metadata": {},
   "source": [
    "## 4-2. Algorithms\n",
    "\n",
    "### 4-2-1. Fixing the Bisection Search (15 points)\n",
    "\n",
    "The bisection code below finds the square root of a number. Try inputting 16 into the code to confirm it works. Next, try inputting 0.25 into the bisection search algorithm below and confirm that it doesn't work. Then correct the algorithm so that it works for all positive numbers, including decimals such as 0.25."
   ]
  },
  {
   "cell_type": "code",
   "execution_count": 270,
   "metadata": {},
   "outputs": [
    {
     "name": "stdout",
     "output_type": "stream",
     "text": [
      "enter a number:hi\n",
      "Not an number! Try again.\n",
      "enter a number:10.00\n",
      "low = 0.0 high = 1000.0\n",
      "low = 0.0 high = 500.0\n",
      "low = 0.0 high = 250.0\n",
      "low = 0.0 high = 125.0\n",
      "low = 0.0 high = 62.5\n",
      "low = 0.0 high = 31.25\n",
      "low = 0.0 high = 15.625\n",
      "low = 0.0 high = 7.8125\n",
      "low = 0.0 high = 3.90625\n",
      "low = 1.953125 high = 3.90625\n",
      "low = 2.9296875 high = 3.90625\n",
      "low = 2.9296875 high = 3.41796875\n",
      "low = 2.9296875 high = 3.173828125\n",
      "low = 3.0517578125 high = 3.173828125\n",
      "low = 3.11279296875 high = 3.173828125\n",
      "low = 3.143310546875 high = 3.173828125\n",
      "low = 3.1585693359375 high = 3.173828125\n",
      "low = 3.1585693359375 high = 3.16619873046875\n",
      "low = 3.1585693359375 high = 3.162384033203125\n",
      "low = 3.1604766845703125 high = 3.162384033203125\n",
      "low = 3.1614303588867188 high = 3.162384033203125\n",
      "low = 3.161907196044922 high = 3.162384033203125\n",
      "low = 3.1621456146240234 high = 3.162384033203125\n",
      "low = 3.162264823913574 high = 3.162384033203125\n",
      "low = 3.162264823913574 high = 3.1623244285583496\n",
      "low = 3.162264823913574 high = 3.162294626235962\n",
      "number of guesses = 26\n",
      "3.162272274494171 is close to square root of 10.0\n"
     ]
    }
   ],
   "source": [
    "# Q4-2-1 Grading Tag:\n",
    "## Please fix the code in this cell (that is don't make a new cell)\n",
    "## Bisection Search to Find a Square Root\n",
    "\n",
    "while True:\n",
    "    try:\n",
    "        x = float(input(\"enter a number:\"))\n",
    "    except ValueError:\n",
    "        print(\"Not a number! Try again.\")\n",
    "        continue\n",
    "    else:\n",
    "        break \n",
    "\n",
    "epsilon = 0.00001\n",
    "num_guesses = 0\n",
    "low = 0.0\n",
    "high = x * 100 #Fixed code by mulitplying X by 100, does add more guesses but it works. \n",
    "ans = (high + low)/2.0\n",
    "while high - low >= 2 * epsilon:\n",
    "    print(\"low =\",low,\"high =\", high)\n",
    "    num_guesses += 1\n",
    "    if ans ** 2 < x:\n",
    "        low = ans\n",
    "    else:\n",
    "        high = ans\n",
    "    ans = (high + low)/2.0\n",
    "print('number of guesses =', num_guesses)\n",
    "print(ans, 'is close to square root of', x)"
   ]
  },
  {
   "cell_type": "markdown",
   "metadata": {},
   "source": [
    "### 4-2-2. Bisection Search vs. Brute Force (5 points)\n",
    "\n",
    "Please answer the following questions as a short answer discussion not more than 1-2 paragraphs.  These methods are described in the async video lectures 4.5, 4.6 & 4.7.\n",
    "\n",
    "In your own words, why does the bisection search algorithm for finding square roots work faster on large numbers than the brute force algorithm? Write your answer below."
   ]
  },
  {
   "cell_type": "markdown",
   "metadata": {},
   "source": [
    "**Answer: Brute Force will always find the answer by looking for all possible solutions; however, larger numbers may take longer to compute and return a result. The Bisection method is a better choice for finding the square root of larger numbers because it sections off where a possible answer could be by looking at the midpoint of the range between 0 and X, it will iterate through each window until it has only one midpoint which will be the square root of X. A simpler explanation would be that bisection does not look for all possible solutions, it looks for the most likely guess within a range until it is out of possible guesses and arrives at an answer, taking far less time to compute.**\n"
   ]
  },
  {
   "cell_type": "markdown",
   "metadata": {},
   "source": [
    "### 4-2-3. Bisection Search vs Newton's Method (5 points)\n",
    "\n",
    "In your own words, why does Newton's method for finding square roots outperform both the brute force and the bisection search algorithms? Write your answer below."
   ]
  },
  {
   "cell_type": "markdown",
   "metadata": {},
   "source": [
    "**Answer: Newton's method uses a series of linear equations where you guess (any number greater than 0) an approximation as the square root of x. For example, if you are looking for the square root of 20, we know that it is between 4 and 5. We enter our guess 4 and then iterates through our guess until arriving at something close to the square root. This is faster than the brute force and bisection because it is not calculating all possibilities or windows for the answer.**"
   ]
  },
  {
   "cell_type": "markdown",
   "metadata": {},
   "source": [
    "### 4-2-4. Interpreting Instructions for an Algorithm (20 points)\n",
    "\n",
    "Implement this digit-by-digit algorithm to find the square root of x to a precision of epsilon.\n",
    "  1. Begin with a step size of 1 and guess of zero.\n",
    "  2. Increase the guess by the step size as long as doing so would not cause the guess^2 to exceed x. Repeat this step (step 2) until the next repetition will cause guess^2 to exceed x.\n",
    "  3. If the step size is greater than epsilon, then divide the step size by 10 and go back to step 2.\n",
    "\n",
    "Notice that once a digit has been found, it is not changed again.  Try using your code to find the square root of 10 to an epsilon of 10 decimal places.  This algorithm should not take over 30 seconds to run (if it does you have coded something incorrectly!)\n",
    "\n",
    "Hint: It might be helpful to write out by hand an easier example like '4' to understand how the algorithm works.\n",
    "\n",
    "Example output:\n",
    "\n",
    "```\n",
    "Enter a number to find the square root: 10\n",
    "The square root of 10 is 3.1622776601.\n",
    "```"
   ]
  },
  {
   "cell_type": "code",
   "execution_count": 272,
   "metadata": {},
   "outputs": [
    {
     "name": "stdout",
     "output_type": "stream",
     "text": [
      "Enter a number to find the square root: 10\n",
      "The square root of 10.0 is 3.1622776986168337.\n"
     ]
    }
   ],
   "source": [
    "# Q4-2-4 Grading Tag:\n",
    "\n",
    "while True:\n",
    "    try:\n",
    "        x = float(input(\"Enter a number to find the square root: \"))\n",
    "    except ValueError:\n",
    "        print(\"Not an number! Try again.\")\n",
    "        continue\n",
    "    else:\n",
    "        break \n",
    "        \n",
    "epsilon = 0.000001\n",
    "guess = 0\n",
    "step = 1\n",
    "\n",
    "\n",
    "while guess**2 <= x:\n",
    "    guess += step\n",
    "\n",
    "    if step > epsilon:\n",
    "        step = step / 10\n",
    "print('The square root of {} is {}.' .format(x, guess))"
   ]
  },
  {
   "cell_type": "code",
   "execution_count": 260,
   "metadata": {},
   "outputs": [
    {
     "name": "stdout",
     "output_type": "stream",
     "text": [
      "Enter a number to find the square root: 10\n",
      "The square root of 10.0 is 3.162277659999999.\n"
     ]
    }
   ],
   "source": [
    "###Seems faster option and closer to the sample answer but does not provide to epislon, first soultion is better. \n",
    "x = float(input(\"Enter a number to find the square root: \"))\n",
    "epsilon = 10\n",
    "guess = 0\n",
    "step = 1\n",
    "\n",
    "for i in range(0, epsilon):\n",
    "    while guess**2 <= x:\n",
    "        guess += step\n",
    "    guess = guess - step\n",
    "    step = step / 10\n",
    "print('The square root of {} is {}.' .format(x, guess))"
   ]
  },
  {
   "cell_type": "markdown",
   "metadata": {},
   "source": [
    "## 4-3. List Comprehensions (25 points - 5 points each)\n",
    "\n",
    "Each list comprehension below can be done in just one line/statement and needs to output one list. \n",
    "\n",
    "**4-3-1. Use a single comprehension** to make a list of the square numbers below 100 that give a remainder of 1 when divided by 3.\n",
    "\n",
    "Example output (these are the first two elements of the list - obviously not the full list!):\n",
    "```\n",
    "[1, 4, ... ]\n",
    "```"
   ]
  },
  {
   "cell_type": "code",
   "execution_count": 59,
   "metadata": {},
   "outputs": [
    {
     "name": "stdout",
     "output_type": "stream",
     "text": [
      "[1, 4, 16, 25, 49, 64, 100, 121, 169, 196, 256, 289, 361, 400, 484, 529, 625, 676, 784, 841, 961, 1024, 1156, 1225, 1369, 1444, 1600, 1681, 1849, 1936, 2116, 2209, 2401, 2500, 2704, 2809, 3025, 3136, 3364, 3481, 3721, 3844, 4096, 4225, 4489, 4624, 4900, 5041, 5329, 5476, 5776, 5929, 6241, 6400, 6724, 6889, 7225, 7396, 7744, 7921, 8281, 8464, 8836, 9025, 9409, 9604]\n"
     ]
    }
   ],
   "source": [
    "# Q4-3-1 Grading Tag:\n",
    "print([i**2 for i in range(0,100) if i**2%3==1])"
   ]
  },
  {
   "cell_type": "markdown",
   "metadata": {},
   "source": [
    "**4-3-2.** A string is defined in the code snippet below. **Use a single comprehension** to make a list of the first letter of each word in the snippet.\n",
    "\n",
    "Example output (these are the first two elements of the list - obviously not the full list!):\n",
    "```\n",
    "['I', 'l', ... ]\n",
    "```"
   ]
  },
  {
   "cell_type": "code",
   "execution_count": 91,
   "metadata": {},
   "outputs": [
    {
     "name": "stdout",
     "output_type": "stream",
     "text": [
      "['I', 'l', 'm', 'l', 'a', 'q', 'm', 'a', 'a', 't', 'N', 'e', 'm', 'n', 't', 'm', 'n', 't', 's', 'n', 'm', 't', 'a', 'a', 't', 'b', 'F', 't', 't', 's', 'o', 'l', 'I', 'f']\n"
     ]
    }
   ],
   "source": [
    "# Q4-3-2 Grading Tag:\n",
    "text = \"I live my life a quarter mile at a time. \\\n",
    "Nothing else matters: not the mortgage, not the store, \\\n",
    "not my team and all their bullshit. \\\n",
    "For those ten seconds or less, I’m free.\"\n",
    "# the slashes just mean that the string continues onto the next line\n",
    "# if you print the text, it will make no difference\n",
    "\n",
    "print([letter[0] for letter in text.split()])"
   ]
  },
  {
   "cell_type": "markdown",
   "metadata": {},
   "source": [
    "**4-3-3.** A Pythagorean triple is a set (x,y,z), with positive integers x ≤ y ≤ z such that $x^2+y^2=z^2$. **Use a single comprehension** to make a list of all Pythagorean triples such that all 3 numbers are below 25.\n",
    "\n",
    "Example output (these are the first two elements of the list - obviously not the full list!):\n",
    "```\n",
    "[(3, 4, 5), (5, 12, 13), ... ]\n",
    "```"
   ]
  },
  {
   "cell_type": "code",
   "execution_count": 269,
   "metadata": {},
   "outputs": [
    {
     "name": "stdout",
     "output_type": "stream",
     "text": [
      "[(3, 4, 5), (5, 12, 13), (6, 8, 10), (7, 24, 25), (8, 15, 17), (9, 12, 15), (12, 16, 20), (15, 20, 25)]\n"
     ]
    }
   ],
   "source": [
    "# Q4-3-3 Grading Tag:\n",
    "\n",
    "print([(x,y,z) for x in range(1,26) for y in range(x,26) for z in range(y,26) if x**2 + y**2 == z**2])"
   ]
  },
  {
   "cell_type": "markdown",
   "metadata": {},
   "source": [
    "**4-3-4.** Given a word, provided below, **use a single comprehension** to make a list of all strings that can be formed by deleting exactly one character from the word.\n",
    "\n",
    "Required output:\n",
    "```\n",
    "['elcomed', 'Wlcomed', 'Wecomed', 'Welomed', 'Welcmed', 'Welcoed', 'Welcomd', 'Welcome']\n",
    "```"
   ]
  },
  {
   "cell_type": "code",
   "execution_count": 116,
   "metadata": {},
   "outputs": [
    {
     "name": "stdout",
     "output_type": "stream",
     "text": [
      "['elcomed', 'Wlcomed', 'Wecomed', 'Welomed', 'Welcmed', 'Welcoed', 'Welcomd', 'Welcome']\n"
     ]
    }
   ],
   "source": [
    "# Q4-3-4 Grading Tag:\n",
    "word = 'Welcomed'\n",
    "\n",
    "print([word[:i] + word[i + 1:] for i in range(len(word))])"
   ]
  },
  {
   "cell_type": "markdown",
   "metadata": {},
   "source": [
    "**4-3-5.** Given a word, provided below, **use a single comprehension** to make a list of all strings that can be formed by replacing exactly one vowel in the word with a different vowel (a vowel is a,e,i,o,u).\n",
    "\n",
    "Required output:\n",
    "```\n",
    "['Baoted', 'Beoted', 'Bioted', 'Buoted', 'Boated', 'Boeted', 'Boited', 'Bouted', 'Bootad', 'Bootid', 'Bootod', 'Bootud']\n",
    "```"
   ]
  },
  {
   "cell_type": "code",
   "execution_count": 266,
   "metadata": {},
   "outputs": [
    {
     "name": "stdout",
     "output_type": "stream",
     "text": [
      "['Baoted', 'Beoted', 'Bioted', 'Buoted', 'Boated', 'Boeted', 'Boited', 'Bouted', 'Bootad', 'Bootid', 'Bootod', 'Bootud']\n"
     ]
    }
   ],
   "source": [
    "# Q4-3-5 Grading Tag:\n",
    "word = \"Booted\"\n",
    "\n",
    "#for i in range(len(word)):\n",
    "#if word[i] in ['a', 'e', 'i', 'o', 'u']:\n",
    "#for j in ['a', 'e', 'i', 'o', 'u']:\n",
    "#if word[i] != j:\n",
    "#print(word[:i] + j + word[i+1:])\n",
    "\n",
    "print([word[:i] + j + word[i + 1:] for i in range(len(word)) if word[i] in ['a', 'e', 'i', 'o', 'u'] for j in ['a', 'e', 'i', 'o', 'u'] if word[i] != j])"
   ]
  },
  {
   "cell_type": "markdown",
   "metadata": {},
   "source": [
    "## If you have feedback for this homework, please submit it using the link below:\n",
    "\n",
    "http://goo.gl/forms/74yCiQTf6k"
   ]
  }
 ],
 "metadata": {
  "kernelspec": {
   "display_name": "Python 3",
   "language": "python",
   "name": "python3"
  },
  "language_info": {
   "codemirror_mode": {
    "name": "ipython",
    "version": 3
   },
   "file_extension": ".py",
   "mimetype": "text/x-python",
   "name": "python",
   "nbconvert_exporter": "python",
   "pygments_lexer": "ipython3",
   "version": "3.7.3"
  }
 },
 "nbformat": 4,
 "nbformat_minor": 1
}

{
 "cells": [
  {
   "cell_type": "markdown",
   "metadata": {},
   "source": [
    "## Week 12 Assignment - W200 Introduction to Data Science Programming, UC Berkeley MIDS\n",
    "\n",
    "Write code in this Jupyter Notebook to solve the following problems. This assignment addresses material covered in Unit 11. Please upload this **Notebook** with your solutions to your GitHub repository in your SUBMISSIONS/week_12 folder by 11:59PM PST the night before class. If you turn-in anything on ISVC please do so under the Week 12 Assignment category. "
   ]
  },
  {
   "cell_type": "markdown",
   "metadata": {},
   "source": [
    "## Objectives\n",
    "\n",
    "- Explore and glean insights from a real dataset using pandas\n",
    "- Practice using pandas for exploratory analysis, information gathering, and discovery\n",
    "- Practice using matplotlib for data visualization"
   ]
  },
  {
   "cell_type": "markdown",
   "metadata": {},
   "source": [
    "## Dataset\n",
    "\n",
    "You are to analyze campaign contributions to the 2016 U.S. presidential primary races made in California. Use the csv file located here: https://drive.google.com/file/d/1Lgg-PwXQ6TQLDowd6XyBxZw5g1NGWPjB/view?usp=sharing. You should download and save this file in the same folder as this notebook is stored.  This file originally came from the U.S. Federal Election Commission (https://www.fec.gov/).\n",
    "\n",
    "** DO NOT PUSH THIS FILE TO YOUR GITHUB REPO ! **\n",
    "\n",
    "Documentation for this data can be found here: https://drive.google.com/file/d/11o_SByceenv0NgNMstM-dxC1jL7I9fHL/view?usp=sharing"
   ]
  },
  {
   "cell_type": "markdown",
   "metadata": {},
   "source": [
    "## General Guidelines:\n",
    "\n",
    "- This is a **real** dataset and so it may contain errors and other pecularities to work through\n",
    "- This dataset is ~218mb, which will take some time to load (and probably won't load in Google Sheets or Excel)\n",
    "- If you make assumptions, annotate them in your responses\n",
    "- While there is one code/markdown cell positioned after each question as a placeholder, some of your code/responses may require multiple cells\n",
    "- Double-click the markdown cells that say YOUR ANSWER HERE to enter your written answers. If you need more cells for your written answers, make them markdown cells (rather than code cells)"
   ]
  },
  {
   "cell_type": "markdown",
   "metadata": {},
   "source": [
    "## Setup\n",
    "\n",
    "Run the two cells below. \n",
    "\n",
    "The first cell will load the data into a pandas dataframe named `contrib`. Note that a custom date parser is defined to speed up loading. If Python were to guess the date format, it would take even longer to load.  \n",
    "\n",
    "The second cell subsets the dataframe to focus on just the primary period through May 2016. Otherwise, we would see general election donations which would make it harder to draw conclusions about the primaries."
   ]
  },
  {
   "cell_type": "code",
   "execution_count": 2,
   "metadata": {},
   "outputs": [
    {
     "name": "stderr",
     "output_type": "stream",
     "text": [
      "/Users/swllms/anaconda3/lib/python3.7/site-packages/IPython/core/interactiveshell.py:3057: DtypeWarning: Columns (6,11,12) have mixed types. Specify dtype option on import or set low_memory=False.\n",
      "  interactivity=interactivity, compiler=compiler, result=result)\n"
     ]
    },
    {
     "name": "stdout",
     "output_type": "stream",
     "text": [
      "(1125659, 18)\n"
     ]
    }
   ],
   "source": [
    "import pandas as pd\n",
    "import matplotlib.pyplot as plt\n",
    "import datetime\n",
    "\n",
    "# These commands below set some options for pandas and to have matplotlib show the charts in the notebook\n",
    "pd.set_option('display.max_rows', 1000)\n",
    "pd.options.display.float_format = '{:,.2f}'.format\n",
    "%matplotlib inline\n",
    "\n",
    "# Define a date parser to pass to read_csv\n",
    "d = lambda x: pd.datetime.strptime(x, '%d-%b-%y')\n",
    "\n",
    "# Load the data\n",
    "contrib = pd.read_csv('./P00000001-CA.csv', index_col=False, parse_dates=['contb_receipt_dt'], date_parser=d)\n",
    "print(contrib.shape)\n",
    "\n",
    "# Note - for now, it is okay to ignore the warning about mixed types. "
   ]
  },
  {
   "cell_type": "code",
   "execution_count": 3,
   "metadata": {},
   "outputs": [
    {
     "name": "stdout",
     "output_type": "stream",
     "text": [
      "(654502, 18)\n"
     ]
    }
   ],
   "source": [
    "# Subset data to primary period \n",
    "contrib = contrib.copy()[contrib['contb_receipt_dt'] <= datetime.datetime(2016, 5, 31)]\n",
    "print(contrib.shape)"
   ]
  },
  {
   "cell_type": "markdown",
   "metadata": {},
   "source": [
    "## 1. Data  Exploration (20 points)\n",
    "\n",
    "**1a. First, take a preliminary look at the data.**\n",
    "- Print the *shape* of the data. What does this tell you about the number of variables and rows you have?\n",
    "- Print a list of column names. \n",
    "- Review the documentation for this data (link above). Do you have all of the columns you expect to have?\n",
    "- Sometimes variable names are not clear unless we read the documentation. In your own words, based on the documentation, what information does the `election_tp` variable contain?"
   ]
  },
  {
   "cell_type": "code",
   "execution_count": 4,
   "metadata": {
    "deletable": false,
    "nbgrader": {
     "checksum": "9f7a7938e43b14d3c7c49d6a278b0bb1",
     "grade": true,
     "grade_id": "cell-5d017805206f18b1",
     "locked": false,
     "points": 0,
     "schema_version": 1,
     "solution": true
    }
   },
   "outputs": [
    {
     "name": "stdout",
     "output_type": "stream",
     "text": [
      "Data Shape: (654502, 18)\n",
      "Column Names: ['cmte_id', 'cand_id', 'cand_nm', 'contbr_nm', 'contbr_city', 'contbr_st', 'contbr_zip', 'contbr_employer', 'contbr_occupation', 'contb_receipt_amt', 'contb_receipt_dt', 'receipt_desc', 'memo_cd', 'memo_text', 'form_tp', 'file_num', 'tran_id', 'election_tp']\n"
     ]
    }
   ],
   "source": [
    "# 1a YOUR CODE HERE\n",
    "print('Data Shape:', contrib.shape)\n",
    "print('Column Names:', list(contrib.columns))"
   ]
  },
  {
   "cell_type": "markdown",
   "metadata": {
    "deletable": false,
    "nbgrader": {
     "checksum": "e6a198453ec4b0171a064fef0bd7c678",
     "grade": true,
     "grade_id": "cell-3bc26919169bf4aa",
     "locked": false,
     "points": 5,
     "schema_version": 1,
     "solution": true
    }
   },
   "source": [
    "`1a RESPONSE:`There are 18 variables in this data set with 654,502 rows. All the columns are present in the loaded dataset based on the documentation. I believe that that the data in the CSV file is indexed based on the cmte_id (Commitee ID : A 9-character alpha-numeric code assigned to a committee by the Federal Election Commission) but the dataset was loaded in with a numerical index as you can see when look at contrib.head(). The election_tp variable contains information on the year the election and election type, such as a primary election or general election. "
   ]
  },
  {
   "cell_type": "markdown",
   "metadata": {},
   "source": [
    "**1b. Print the first 5 rows from the dataset to manually check some of the data.** \n",
    "\n",
    "This is a good idea to ensure the data loaded and the columns parsed correctly!"
   ]
  },
  {
   "cell_type": "code",
   "execution_count": 5,
   "metadata": {
    "deletable": false,
    "nbgrader": {
     "checksum": "4fbf682f1c78b3614832c6f48ecd88c7",
     "grade": true,
     "grade_id": "cell-72bc97601b84f17d",
     "locked": false,
     "points": 5,
     "schema_version": 1,
     "solution": true
    }
   },
   "outputs": [
    {
     "data": {
      "text/html": [
       "<div>\n",
       "<style scoped>\n",
       "    .dataframe tbody tr th:only-of-type {\n",
       "        vertical-align: middle;\n",
       "    }\n",
       "\n",
       "    .dataframe tbody tr th {\n",
       "        vertical-align: top;\n",
       "    }\n",
       "\n",
       "    .dataframe thead th {\n",
       "        text-align: right;\n",
       "    }\n",
       "</style>\n",
       "<table border=\"1\" class=\"dataframe\">\n",
       "  <thead>\n",
       "    <tr style=\"text-align: right;\">\n",
       "      <th></th>\n",
       "      <th>cmte_id</th>\n",
       "      <th>cand_id</th>\n",
       "      <th>cand_nm</th>\n",
       "      <th>contbr_nm</th>\n",
       "      <th>contbr_city</th>\n",
       "      <th>contbr_st</th>\n",
       "      <th>contbr_zip</th>\n",
       "      <th>contbr_employer</th>\n",
       "      <th>contbr_occupation</th>\n",
       "      <th>contb_receipt_amt</th>\n",
       "      <th>contb_receipt_dt</th>\n",
       "      <th>receipt_desc</th>\n",
       "      <th>memo_cd</th>\n",
       "      <th>memo_text</th>\n",
       "      <th>form_tp</th>\n",
       "      <th>file_num</th>\n",
       "      <th>tran_id</th>\n",
       "      <th>election_tp</th>\n",
       "    </tr>\n",
       "  </thead>\n",
       "  <tbody>\n",
       "    <tr>\n",
       "      <th>0</th>\n",
       "      <td>C00575795</td>\n",
       "      <td>P00003392</td>\n",
       "      <td>Clinton, Hillary Rodham</td>\n",
       "      <td>AULL, ANNE</td>\n",
       "      <td>LARKSPUR</td>\n",
       "      <td>CA</td>\n",
       "      <td>949,391,913.00</td>\n",
       "      <td>NaN</td>\n",
       "      <td>RETIRED</td>\n",
       "      <td>50.00</td>\n",
       "      <td>2016-04-26</td>\n",
       "      <td>NaN</td>\n",
       "      <td>X</td>\n",
       "      <td>* HILLARY VICTORY FUND</td>\n",
       "      <td>SA18</td>\n",
       "      <td>1091718</td>\n",
       "      <td>C4768722</td>\n",
       "      <td>P2016</td>\n",
       "    </tr>\n",
       "    <tr>\n",
       "      <th>1</th>\n",
       "      <td>C00575795</td>\n",
       "      <td>P00003392</td>\n",
       "      <td>Clinton, Hillary Rodham</td>\n",
       "      <td>CARROLL, MARYJEAN</td>\n",
       "      <td>CAMBRIA</td>\n",
       "      <td>CA</td>\n",
       "      <td>934,284,638.00</td>\n",
       "      <td>NaN</td>\n",
       "      <td>RETIRED</td>\n",
       "      <td>200.00</td>\n",
       "      <td>2016-04-20</td>\n",
       "      <td>NaN</td>\n",
       "      <td>X</td>\n",
       "      <td>* HILLARY VICTORY FUND</td>\n",
       "      <td>SA18</td>\n",
       "      <td>1091718</td>\n",
       "      <td>C4747242</td>\n",
       "      <td>P2016</td>\n",
       "    </tr>\n",
       "    <tr>\n",
       "      <th>2</th>\n",
       "      <td>C00575795</td>\n",
       "      <td>P00003392</td>\n",
       "      <td>Clinton, Hillary Rodham</td>\n",
       "      <td>GANDARA, DESIREE</td>\n",
       "      <td>FONTANA</td>\n",
       "      <td>CA</td>\n",
       "      <td>923,371,507.00</td>\n",
       "      <td>NaN</td>\n",
       "      <td>RETIRED</td>\n",
       "      <td>5.00</td>\n",
       "      <td>2016-04-02</td>\n",
       "      <td>NaN</td>\n",
       "      <td>X</td>\n",
       "      <td>* HILLARY VICTORY FUND</td>\n",
       "      <td>SA18</td>\n",
       "      <td>1091718</td>\n",
       "      <td>C4666603</td>\n",
       "      <td>P2016</td>\n",
       "    </tr>\n",
       "    <tr>\n",
       "      <th>3</th>\n",
       "      <td>C00577130</td>\n",
       "      <td>P60007168</td>\n",
       "      <td>Sanders, Bernard</td>\n",
       "      <td>LEE, ALAN</td>\n",
       "      <td>CAMARILLO</td>\n",
       "      <td>CA</td>\n",
       "      <td>930,111,214.00</td>\n",
       "      <td>AT&amp;T GOVERNMENT SOLUTIONS</td>\n",
       "      <td>SOFTWARE ENGINEER</td>\n",
       "      <td>40.00</td>\n",
       "      <td>2016-03-04</td>\n",
       "      <td>NaN</td>\n",
       "      <td>NaN</td>\n",
       "      <td>* EARMARKED CONTRIBUTION: SEE BELOW</td>\n",
       "      <td>SA17A</td>\n",
       "      <td>1077404</td>\n",
       "      <td>VPF7BKWA097</td>\n",
       "      <td>P2016</td>\n",
       "    </tr>\n",
       "    <tr>\n",
       "      <th>4</th>\n",
       "      <td>C00577130</td>\n",
       "      <td>P60007168</td>\n",
       "      <td>Sanders, Bernard</td>\n",
       "      <td>LEONELLI, ODETTE</td>\n",
       "      <td>REDONDO BEACH</td>\n",
       "      <td>CA</td>\n",
       "      <td>902,784,310.00</td>\n",
       "      <td>VERICOR ENTERPRISES INC.</td>\n",
       "      <td>PHARMACIST</td>\n",
       "      <td>35.00</td>\n",
       "      <td>2016-03-05</td>\n",
       "      <td>NaN</td>\n",
       "      <td>NaN</td>\n",
       "      <td>* EARMARKED CONTRIBUTION: SEE BELOW</td>\n",
       "      <td>SA17A</td>\n",
       "      <td>1077404</td>\n",
       "      <td>VPF7BKX3MB3</td>\n",
       "      <td>P2016</td>\n",
       "    </tr>\n",
       "  </tbody>\n",
       "</table>\n",
       "</div>"
      ],
      "text/plain": [
       "     cmte_id    cand_id                  cand_nm          contbr_nm  \\\n",
       "0  C00575795  P00003392  Clinton, Hillary Rodham         AULL, ANNE   \n",
       "1  C00575795  P00003392  Clinton, Hillary Rodham  CARROLL, MARYJEAN   \n",
       "2  C00575795  P00003392  Clinton, Hillary Rodham   GANDARA, DESIREE   \n",
       "3  C00577130  P60007168         Sanders, Bernard          LEE, ALAN   \n",
       "4  C00577130  P60007168         Sanders, Bernard   LEONELLI, ODETTE   \n",
       "\n",
       "     contbr_city contbr_st     contbr_zip            contbr_employer  \\\n",
       "0       LARKSPUR        CA 949,391,913.00                        NaN   \n",
       "1        CAMBRIA        CA 934,284,638.00                        NaN   \n",
       "2        FONTANA        CA 923,371,507.00                        NaN   \n",
       "3      CAMARILLO        CA 930,111,214.00  AT&T GOVERNMENT SOLUTIONS   \n",
       "4  REDONDO BEACH        CA 902,784,310.00   VERICOR ENTERPRISES INC.   \n",
       "\n",
       "   contbr_occupation  contb_receipt_amt contb_receipt_dt receipt_desc memo_cd  \\\n",
       "0            RETIRED              50.00       2016-04-26          NaN       X   \n",
       "1            RETIRED             200.00       2016-04-20          NaN       X   \n",
       "2            RETIRED               5.00       2016-04-02          NaN       X   \n",
       "3  SOFTWARE ENGINEER              40.00       2016-03-04          NaN     NaN   \n",
       "4         PHARMACIST              35.00       2016-03-05          NaN     NaN   \n",
       "\n",
       "                             memo_text form_tp  file_num      tran_id  \\\n",
       "0               * HILLARY VICTORY FUND    SA18   1091718     C4768722   \n",
       "1               * HILLARY VICTORY FUND    SA18   1091718     C4747242   \n",
       "2               * HILLARY VICTORY FUND    SA18   1091718     C4666603   \n",
       "3  * EARMARKED CONTRIBUTION: SEE BELOW   SA17A   1077404  VPF7BKWA097   \n",
       "4  * EARMARKED CONTRIBUTION: SEE BELOW   SA17A   1077404  VPF7BKX3MB3   \n",
       "\n",
       "  election_tp  \n",
       "0       P2016  \n",
       "1       P2016  \n",
       "2       P2016  \n",
       "3       P2016  \n",
       "4       P2016  "
      ]
     },
     "execution_count": 5,
     "metadata": {},
     "output_type": "execute_result"
    }
   ],
   "source": [
    "# 1b YOUR CODE HERE\n",
    "contrib.head(5)"
   ]
  },
  {
   "cell_type": "markdown",
   "metadata": {},
   "source": [
    "**1c. Pick three variables from the dataset above and run some quick sanity checks.**\n",
    "\n",
    "When working with a new dataset, it is important to explore and sanity check your variables. For example, you may want to examine the maximum and minimum values, a frequency count, or something else. Use the three markdown cells below to explain if your **three** chosen variables \"pass\" your sanity checks or if you have concerns about the integrity of your data and why. "
   ]
  },
  {
   "cell_type": "code",
   "execution_count": 6,
   "metadata": {
    "deletable": false,
    "nbgrader": {
     "checksum": "0ec29a2cabd52709322d1cfd650babe7",
     "grade": true,
     "grade_id": "cell-23b51536d24c1645",
     "locked": false,
     "points": 0,
     "schema_version": 1,
     "solution": true
    }
   },
   "outputs": [
    {
     "data": {
      "text/plain": [
       "Sanders, Bernard             371795\n",
       "Clinton, Hillary Rodham      163509\n",
       "Cruz, Rafael Edward 'Ted'     57136\n",
       "Carson, Benjamin S.           27342\n",
       "Rubio, Marco                  14089\n",
       "Fiorina, Carly                 4696\n",
       "Paul, Rand                     4256\n",
       "Bush, Jeb                      3114\n",
       "Kasich, John R.                2988\n",
       "Trump, Donald J.               2255\n",
       "Walker, Scott                   713\n",
       "Huckabee, Mike                  531\n",
       "O'Malley, Martin Joseph         397\n",
       "Lessig, Lawrence                372\n",
       "Graham, Lindsey O.              342\n",
       "Christie, Christopher J.        333\n",
       "Stein, Jill                     197\n",
       "Perry, James R. (Rick)          116\n",
       "Webb, James Henry Jr.           106\n",
       "Santorum, Richard J.             84\n",
       "Johnson, Gary                    77\n",
       "Jindal, Bobby                    31\n",
       "Pataki, George E.                20\n",
       "Gilmore, James S III              3\n",
       "Name: cand_nm, dtype: int64"
      ]
     },
     "execution_count": 6,
     "metadata": {},
     "output_type": "execute_result"
    }
   ],
   "source": [
    "# 1c YOUR CODE HERE for variable #1\n",
    "contrib['cand_nm'].value_counts()"
   ]
  },
  {
   "cell_type": "code",
   "execution_count": 7,
   "metadata": {},
   "outputs": [
    {
     "data": {
      "text/plain": [
       "P2016    649293\n",
       "G2016      5064\n",
       "P2020         7\n",
       "Name: election_tp, dtype: int64"
      ]
     },
     "execution_count": 7,
     "metadata": {},
     "output_type": "execute_result"
    }
   ],
   "source": [
    "# 1c YOUR CODE HERE for variable #2\n",
    "contrib['election_tp'].value_counts()"
   ]
  },
  {
   "cell_type": "code",
   "execution_count": 8,
   "metadata": {},
   "outputs": [
    {
     "name": "stdout",
     "output_type": "stream",
     "text": [
      "Max Value Contributed: 10800.0\n",
      "Min Value Contributed: -10000.0\n",
      "Average Value Contributed: 126.4980542611056\n"
     ]
    }
   ],
   "source": [
    "# 1c YOUR CODE HERE for variable #3\n",
    "print('Max Value Contributed:', contrib['contb_receipt_amt'].max())\n",
    "print('Min Value Contributed:', contrib['contb_receipt_amt'].min())\n",
    "print('Average Value Contributed:', contrib['contb_receipt_amt'].mean())"
   ]
  },
  {
   "cell_type": "markdown",
   "metadata": {
    "deletable": false,
    "nbgrader": {
     "checksum": "cfa64002e64474584dc1442b5a39b460",
     "grade": true,
     "grade_id": "cell-8a320c2ff7c24d98",
     "locked": false,
     "points": 0,
     "schema_version": 1,
     "solution": true
    }
   },
   "source": [
    "`1c RESPONSE:` Variable 1: Candidate Name value counts is in line with what I was expected. Each name identifies the unique candidate. Variable 2: Election Type by year is not entirely what I expected as it includes primary election data for 2020. Seeing as we are only into the 4 month of the year and many primaries have been turned on their heads due to COVID-19, I would likely not include this information, depending on what kind of analysis I was conducting. Variable 3: Contributed Reciept Amount includes refunds and transfers in addition to the contriubtion details. Depending on the analysis, I may exclude refunds as part of my exploration. "
   ]
  },
  {
   "cell_type": "markdown",
   "metadata": {},
   "source": [
    "**1d. Plotting a histogram** \n",
    "\n",
    "Make a histogram of **one** of the variables you picked above. What are some insights that you can see from this histogram? \n",
    "Remember to include on your histogram:\n",
    "- Include a title\n",
    "- Include axis labels\n",
    "- The correct number of bins to see the breakout of values\n",
    "- Hint: For some variables the range of values is very large. To do a better exploration, make the initial histogram the full range and then you can make a smaller histogram 'zoomed' in on a discreet range."
   ]
  },
  {
   "cell_type": "code",
   "execution_count": 25,
   "metadata": {},
   "outputs": [
    {
     "data": {
      "image/png": "[encoded data removed]",
      "text/plain": [
       "<Figure size 432x288 with 1 Axes>"
      ]
     },
     "metadata": {
      "needs_background": "light"
     },
     "output_type": "display_data"
    }
   ],
   "source": [
    "# 1d YOUR CODE HERE\n",
    "plt.hist(contrib['contb_receipt_amt'], bins = 50, log=True);\n",
    "plt.title('Donation Frequency by Dollar Amount')\n",
    "plt.xlabel('Dollars Donated')\n",
    "plt.ylabel('Donation Count')\n",
    "plt.show()"
   ]
  },
  {
   "cell_type": "markdown",
   "metadata": {},
   "source": [
    "`1d RESPONSE:` There are quite a number of individuals who have been refunded their donations. However but the bulk of the donations are under the $5000 mark with the majority comprising of small 2-3 figure dollar amounts. "
   ]
  },
  {
   "cell_type": "markdown",
   "metadata": {},
   "source": [
    "## 2. Exploring Campaign Contributions (30 points)\n",
    "\n",
    "Let's investigate the donations to the candidates.\n",
    "\n",
    "**2a. Present a table that shows the number of donations to each candidate sorted by number of donations.**\n",
    "\n",
    "- When presenting data as a table, it is often best to sort the data in a meaningful way. This makes it easier for your reader to examine what you've done and to glean insights.  From now on, all tables that you present in this assignment (and course) should be sorted.\n",
    "- Hint: Use the `groupby` method. Groupby is explained in Unit 13: async 13.3 & 13.5\n",
    "- Hint: Use the `sort_values` method to sort the data so that candidates with the largest number of donations appear on top. \n",
    "- \n",
    "\n",
    "Which candidate received the largest number of contributions (variable 'contb_receipt_amt')?"
   ]
  },
  {
   "cell_type": "code",
   "execution_count": 11,
   "metadata": {
    "deletable": false,
    "nbgrader": {
     "checksum": "442b24601da06376c43cbe6ef5c5348a",
     "grade": true,
     "grade_id": "cell-6a453219105384dd",
     "locked": false,
     "points": 0,
     "schema_version": 1,
     "solution": true
    }
   },
   "outputs": [
    {
     "data": {
      "text/plain": [
       "cand_nm\n",
       "Sanders, Bernard             371795\n",
       "Clinton, Hillary Rodham      163509\n",
       "Cruz, Rafael Edward 'Ted'     57136\n",
       "Carson, Benjamin S.           27342\n",
       "Rubio, Marco                  14089\n",
       "Fiorina, Carly                 4696\n",
       "Paul, Rand                     4256\n",
       "Bush, Jeb                      3114\n",
       "Kasich, John R.                2988\n",
       "Trump, Donald J.               2255\n",
       "Walker, Scott                   713\n",
       "Huckabee, Mike                  531\n",
       "O'Malley, Martin Joseph         397\n",
       "Lessig, Lawrence                372\n",
       "Graham, Lindsey O.              342\n",
       "Christie, Christopher J.        333\n",
       "Stein, Jill                     197\n",
       "Perry, James R. (Rick)          116\n",
       "Webb, James Henry Jr.           106\n",
       "Santorum, Richard J.             84\n",
       "Johnson, Gary                    77\n",
       "Jindal, Bobby                    31\n",
       "Pataki, George E.                20\n",
       "Gilmore, James S III              3\n",
       "Name: contb_receipt_amt, dtype: int64"
      ]
     },
     "execution_count": 11,
     "metadata": {},
     "output_type": "execute_result"
    }
   ],
   "source": [
    "# 2a YOUR CODE HERE\n",
    "cxd = contrib.groupby('cand_nm')['contb_receipt_amt'].count().sort_values(ascending = False)\n",
    "cxd"
   ]
  },
  {
   "cell_type": "markdown",
   "metadata": {
    "deletable": false,
    "nbgrader": {
     "checksum": "c5a1b7f30648cced7269ccb9b1532bd6",
     "grade": true,
     "grade_id": "cell-90c49bd6471a3dc9",
     "locked": false,
     "points": 0,
     "schema_version": 1,
     "solution": true
    }
   },
   "source": [
    "`2a RESPONSE:` The candidate that received the largest number of contributions was Bernard Sanders."
   ]
  },
  {
   "cell_type": "markdown",
   "metadata": {},
   "source": [
    "**2b. Now, present a table that shows the total value of donations to each candidate. sorted by total value of the donations**\n",
    "\n",
    "Which candidate raised the most money in California?"
   ]
  },
  {
   "cell_type": "code",
   "execution_count": 12,
   "metadata": {},
   "outputs": [
    {
     "data": {
      "text/plain": [
       "cand_nm\n",
       "Clinton, Hillary Rodham     39,368,777.01\n",
       "Sanders, Bernard            18,773,871.31\n",
       "Cruz, Rafael Edward 'Ted'    6,286,460.34\n",
       "Rubio, Marco                 4,846,483.72\n",
       "Bush, Jeb                    3,325,536.83\n",
       "Carson, Benjamin S.          2,952,109.00\n",
       "Kasich, John R.              1,553,823.54\n",
       "Fiorina, Carly               1,468,489.42\n",
       "Trump, Donald J.               893,356.89\n",
       "Paul, Rand                     797,624.29\n",
       "Walker, Scott                  495,006.90\n",
       "Christie, Christopher J.       456,066.00\n",
       "Graham, Lindsey O.             408,595.00\n",
       "O'Malley, Martin Joseph        297,834.26\n",
       "Huckabee, Mike                 230,890.60\n",
       "Perry, James R. (Rick)         208,400.00\n",
       "Lessig, Lawrence               186,144.50\n",
       "Webb, James Henry Jr.           76,568.16\n",
       "Johnson, Gary                   41,187.60\n",
       "Santorum, Richard J.            36,304.88\n",
       "Pataki, George E.               30,450.00\n",
       "Stein, Jill                     27,918.00\n",
       "Jindal, Bobby                   23,231.26\n",
       "Gilmore, James S III             8,100.00\n",
       "Name: contb_receipt_amt, dtype: float64"
      ]
     },
     "execution_count": 12,
     "metadata": {},
     "output_type": "execute_result"
    }
   ],
   "source": [
    "# 2b YOUR CODE HERE\n",
    "cxdd = contrib.groupby('cand_nm')['contb_receipt_amt'].sum().sort_values(ascending = False)\n",
    "cxdd"
   ]
  },
  {
   "cell_type": "markdown",
   "metadata": {
    "deletable": false,
    "nbgrader": {
     "checksum": "60d3e303837e9603de5b96e32af7d806",
     "grade": true,
     "grade_id": "cell-447dc63eff8ebc5f",
     "locked": false,
     "points": 0,
     "schema_version": 1,
     "solution": true
    }
   },
   "source": [
    "`2b RESPONSE:` Hillary Rodham Clinton raised the most money in California. "
   ]
  },
  {
   "cell_type": "markdown",
   "metadata": {},
   "source": [
    "**2c. Combine the tables (sorted by either a or b above).**\n",
    "\n",
    "- What is the \"type\" of the two tables you presented above - Series or DataFrames?\n",
    "- Convert any Series to DataFrames.\n",
    "- Rename the variable (column) names to accurately describe what is presented.\n",
    "- Merge together your tables to show the *count* and the *value* of donations to each candidate in one table.\n",
    "- Hint: Use the `merge` method."
   ]
  },
  {
   "cell_type": "code",
   "execution_count": 13,
   "metadata": {},
   "outputs": [
    {
     "name": "stdout",
     "output_type": "stream",
     "text": [
      "Table 1 Data type: <class 'pandas.core.series.Series'>\n",
      "Table 2 Data type: <class 'pandas.core.series.Series'>\n"
     ]
    },
    {
     "data": {
      "text/html": [
       "<div>\n",
       "<style scoped>\n",
       "    .dataframe tbody tr th:only-of-type {\n",
       "        vertical-align: middle;\n",
       "    }\n",
       "\n",
       "    .dataframe tbody tr th {\n",
       "        vertical-align: top;\n",
       "    }\n",
       "\n",
       "    .dataframe thead th {\n",
       "        text-align: right;\n",
       "    }\n",
       "</style>\n",
       "<table border=\"1\" class=\"dataframe\">\n",
       "  <thead>\n",
       "    <tr style=\"text-align: right;\">\n",
       "      <th></th>\n",
       "      <th>all_don_count</th>\n",
       "      <th>total_dollars_donated</th>\n",
       "    </tr>\n",
       "    <tr>\n",
       "      <th>candidate</th>\n",
       "      <th></th>\n",
       "      <th></th>\n",
       "    </tr>\n",
       "  </thead>\n",
       "  <tbody>\n",
       "    <tr>\n",
       "      <th>Sanders, Bernard</th>\n",
       "      <td>371795</td>\n",
       "      <td>18,773,871.31</td>\n",
       "    </tr>\n",
       "    <tr>\n",
       "      <th>Clinton, Hillary Rodham</th>\n",
       "      <td>163509</td>\n",
       "      <td>39,368,777.01</td>\n",
       "    </tr>\n",
       "    <tr>\n",
       "      <th>Cruz, Rafael Edward 'Ted'</th>\n",
       "      <td>57136</td>\n",
       "      <td>6,286,460.34</td>\n",
       "    </tr>\n",
       "    <tr>\n",
       "      <th>Carson, Benjamin S.</th>\n",
       "      <td>27342</td>\n",
       "      <td>2,952,109.00</td>\n",
       "    </tr>\n",
       "    <tr>\n",
       "      <th>Rubio, Marco</th>\n",
       "      <td>14089</td>\n",
       "      <td>4,846,483.72</td>\n",
       "    </tr>\n",
       "    <tr>\n",
       "      <th>Fiorina, Carly</th>\n",
       "      <td>4696</td>\n",
       "      <td>1,468,489.42</td>\n",
       "    </tr>\n",
       "    <tr>\n",
       "      <th>Paul, Rand</th>\n",
       "      <td>4256</td>\n",
       "      <td>797,624.29</td>\n",
       "    </tr>\n",
       "    <tr>\n",
       "      <th>Bush, Jeb</th>\n",
       "      <td>3114</td>\n",
       "      <td>3,325,536.83</td>\n",
       "    </tr>\n",
       "    <tr>\n",
       "      <th>Kasich, John R.</th>\n",
       "      <td>2988</td>\n",
       "      <td>1,553,823.54</td>\n",
       "    </tr>\n",
       "    <tr>\n",
       "      <th>Trump, Donald J.</th>\n",
       "      <td>2255</td>\n",
       "      <td>893,356.89</td>\n",
       "    </tr>\n",
       "    <tr>\n",
       "      <th>Walker, Scott</th>\n",
       "      <td>713</td>\n",
       "      <td>495,006.90</td>\n",
       "    </tr>\n",
       "    <tr>\n",
       "      <th>Huckabee, Mike</th>\n",
       "      <td>531</td>\n",
       "      <td>230,890.60</td>\n",
       "    </tr>\n",
       "    <tr>\n",
       "      <th>O'Malley, Martin Joseph</th>\n",
       "      <td>397</td>\n",
       "      <td>297,834.26</td>\n",
       "    </tr>\n",
       "    <tr>\n",
       "      <th>Lessig, Lawrence</th>\n",
       "      <td>372</td>\n",
       "      <td>186,144.50</td>\n",
       "    </tr>\n",
       "    <tr>\n",
       "      <th>Graham, Lindsey O.</th>\n",
       "      <td>342</td>\n",
       "      <td>408,595.00</td>\n",
       "    </tr>\n",
       "    <tr>\n",
       "      <th>Christie, Christopher J.</th>\n",
       "      <td>333</td>\n",
       "      <td>456,066.00</td>\n",
       "    </tr>\n",
       "    <tr>\n",
       "      <th>Stein, Jill</th>\n",
       "      <td>197</td>\n",
       "      <td>27,918.00</td>\n",
       "    </tr>\n",
       "    <tr>\n",
       "      <th>Perry, James R. (Rick)</th>\n",
       "      <td>116</td>\n",
       "      <td>208,400.00</td>\n",
       "    </tr>\n",
       "    <tr>\n",
       "      <th>Webb, James Henry Jr.</th>\n",
       "      <td>106</td>\n",
       "      <td>76,568.16</td>\n",
       "    </tr>\n",
       "    <tr>\n",
       "      <th>Santorum, Richard J.</th>\n",
       "      <td>84</td>\n",
       "      <td>36,304.88</td>\n",
       "    </tr>\n",
       "    <tr>\n",
       "      <th>Johnson, Gary</th>\n",
       "      <td>77</td>\n",
       "      <td>41,187.60</td>\n",
       "    </tr>\n",
       "    <tr>\n",
       "      <th>Jindal, Bobby</th>\n",
       "      <td>31</td>\n",
       "      <td>23,231.26</td>\n",
       "    </tr>\n",
       "    <tr>\n",
       "      <th>Pataki, George E.</th>\n",
       "      <td>20</td>\n",
       "      <td>30,450.00</td>\n",
       "    </tr>\n",
       "    <tr>\n",
       "      <th>Gilmore, James S III</th>\n",
       "      <td>3</td>\n",
       "      <td>8,100.00</td>\n",
       "    </tr>\n",
       "  </tbody>\n",
       "</table>\n",
       "</div>"
      ],
      "text/plain": [
       "                           all_don_count  total_dollars_donated\n",
       "candidate                                                      \n",
       "Sanders, Bernard                  371795          18,773,871.31\n",
       "Clinton, Hillary Rodham           163509          39,368,777.01\n",
       "Cruz, Rafael Edward 'Ted'          57136           6,286,460.34\n",
       "Carson, Benjamin S.                27342           2,952,109.00\n",
       "Rubio, Marco                       14089           4,846,483.72\n",
       "Fiorina, Carly                      4696           1,468,489.42\n",
       "Paul, Rand                          4256             797,624.29\n",
       "Bush, Jeb                           3114           3,325,536.83\n",
       "Kasich, John R.                     2988           1,553,823.54\n",
       "Trump, Donald J.                    2255             893,356.89\n",
       "Walker, Scott                        713             495,006.90\n",
       "Huckabee, Mike                       531             230,890.60\n",
       "O'Malley, Martin Joseph              397             297,834.26\n",
       "Lessig, Lawrence                     372             186,144.50\n",
       "Graham, Lindsey O.                   342             408,595.00\n",
       "Christie, Christopher J.             333             456,066.00\n",
       "Stein, Jill                          197              27,918.00\n",
       "Perry, James R. (Rick)               116             208,400.00\n",
       "Webb, James Henry Jr.                106              76,568.16\n",
       "Santorum, Richard J.                  84              36,304.88\n",
       "Johnson, Gary                         77              41,187.60\n",
       "Jindal, Bobby                         31              23,231.26\n",
       "Pataki, George E.                     20              30,450.00\n",
       "Gilmore, James S III                   3               8,100.00"
      ]
     },
     "execution_count": 13,
     "metadata": {},
     "output_type": "execute_result"
    }
   ],
   "source": [
    "# 2c YOUR CODE HERE\n",
    "print('Table 1 Data type:', type(cxd))\n",
    "print('Table 2 Data type:', type(cxdd))\n",
    "\n",
    "df = pd.concat([cxd, cxdd], axis=1, sort=False)\n",
    "df.index.names = ['candidate']\n",
    "df.columns = ['all_don_count', 'total_dollars_donated']\n",
    "df"
   ]
  },
  {
   "cell_type": "markdown",
   "metadata": {},
   "source": [
    "**2d. Calculate and add a new variable to the table from 2c that shows the average \\$ per donation. Print this table sorted by the average donation**"
   ]
  },
  {
   "cell_type": "code",
   "execution_count": 14,
   "metadata": {},
   "outputs": [
    {
     "data": {
      "text/html": [
       "<div>\n",
       "<style scoped>\n",
       "    .dataframe tbody tr th:only-of-type {\n",
       "        vertical-align: middle;\n",
       "    }\n",
       "\n",
       "    .dataframe tbody tr th {\n",
       "        vertical-align: top;\n",
       "    }\n",
       "\n",
       "    .dataframe thead th {\n",
       "        text-align: right;\n",
       "    }\n",
       "</style>\n",
       "<table border=\"1\" class=\"dataframe\">\n",
       "  <thead>\n",
       "    <tr style=\"text-align: right;\">\n",
       "      <th></th>\n",
       "      <th>all_don_count</th>\n",
       "      <th>total_dollars_donated</th>\n",
       "      <th>avg_doll_donation</th>\n",
       "    </tr>\n",
       "    <tr>\n",
       "      <th>candidate</th>\n",
       "      <th></th>\n",
       "      <th></th>\n",
       "      <th></th>\n",
       "    </tr>\n",
       "  </thead>\n",
       "  <tbody>\n",
       "    <tr>\n",
       "      <th>Gilmore, James S III</th>\n",
       "      <td>3</td>\n",
       "      <td>8,100.00</td>\n",
       "      <td>2,700.00</td>\n",
       "    </tr>\n",
       "    <tr>\n",
       "      <th>Perry, James R. (Rick)</th>\n",
       "      <td>116</td>\n",
       "      <td>208,400.00</td>\n",
       "      <td>1,796.55</td>\n",
       "    </tr>\n",
       "    <tr>\n",
       "      <th>Pataki, George E.</th>\n",
       "      <td>20</td>\n",
       "      <td>30,450.00</td>\n",
       "      <td>1,522.50</td>\n",
       "    </tr>\n",
       "    <tr>\n",
       "      <th>Christie, Christopher J.</th>\n",
       "      <td>333</td>\n",
       "      <td>456,066.00</td>\n",
       "      <td>1,369.57</td>\n",
       "    </tr>\n",
       "    <tr>\n",
       "      <th>Graham, Lindsey O.</th>\n",
       "      <td>342</td>\n",
       "      <td>408,595.00</td>\n",
       "      <td>1,194.72</td>\n",
       "    </tr>\n",
       "    <tr>\n",
       "      <th>Bush, Jeb</th>\n",
       "      <td>3114</td>\n",
       "      <td>3,325,536.83</td>\n",
       "      <td>1,067.93</td>\n",
       "    </tr>\n",
       "    <tr>\n",
       "      <th>O'Malley, Martin Joseph</th>\n",
       "      <td>397</td>\n",
       "      <td>297,834.26</td>\n",
       "      <td>750.21</td>\n",
       "    </tr>\n",
       "    <tr>\n",
       "      <th>Jindal, Bobby</th>\n",
       "      <td>31</td>\n",
       "      <td>23,231.26</td>\n",
       "      <td>749.40</td>\n",
       "    </tr>\n",
       "    <tr>\n",
       "      <th>Webb, James Henry Jr.</th>\n",
       "      <td>106</td>\n",
       "      <td>76,568.16</td>\n",
       "      <td>722.34</td>\n",
       "    </tr>\n",
       "    <tr>\n",
       "      <th>Walker, Scott</th>\n",
       "      <td>713</td>\n",
       "      <td>495,006.90</td>\n",
       "      <td>694.26</td>\n",
       "    </tr>\n",
       "    <tr>\n",
       "      <th>Johnson, Gary</th>\n",
       "      <td>77</td>\n",
       "      <td>41,187.60</td>\n",
       "      <td>534.90</td>\n",
       "    </tr>\n",
       "    <tr>\n",
       "      <th>Kasich, John R.</th>\n",
       "      <td>2988</td>\n",
       "      <td>1,553,823.54</td>\n",
       "      <td>520.02</td>\n",
       "    </tr>\n",
       "    <tr>\n",
       "      <th>Lessig, Lawrence</th>\n",
       "      <td>372</td>\n",
       "      <td>186,144.50</td>\n",
       "      <td>500.39</td>\n",
       "    </tr>\n",
       "    <tr>\n",
       "      <th>Huckabee, Mike</th>\n",
       "      <td>531</td>\n",
       "      <td>230,890.60</td>\n",
       "      <td>434.82</td>\n",
       "    </tr>\n",
       "    <tr>\n",
       "      <th>Santorum, Richard J.</th>\n",
       "      <td>84</td>\n",
       "      <td>36,304.88</td>\n",
       "      <td>432.20</td>\n",
       "    </tr>\n",
       "    <tr>\n",
       "      <th>Trump, Donald J.</th>\n",
       "      <td>2255</td>\n",
       "      <td>893,356.89</td>\n",
       "      <td>396.17</td>\n",
       "    </tr>\n",
       "    <tr>\n",
       "      <th>Rubio, Marco</th>\n",
       "      <td>14089</td>\n",
       "      <td>4,846,483.72</td>\n",
       "      <td>343.99</td>\n",
       "    </tr>\n",
       "    <tr>\n",
       "      <th>Fiorina, Carly</th>\n",
       "      <td>4696</td>\n",
       "      <td>1,468,489.42</td>\n",
       "      <td>312.71</td>\n",
       "    </tr>\n",
       "    <tr>\n",
       "      <th>Clinton, Hillary Rodham</th>\n",
       "      <td>163509</td>\n",
       "      <td>39,368,777.01</td>\n",
       "      <td>240.77</td>\n",
       "    </tr>\n",
       "    <tr>\n",
       "      <th>Paul, Rand</th>\n",
       "      <td>4256</td>\n",
       "      <td>797,624.29</td>\n",
       "      <td>187.41</td>\n",
       "    </tr>\n",
       "    <tr>\n",
       "      <th>Stein, Jill</th>\n",
       "      <td>197</td>\n",
       "      <td>27,918.00</td>\n",
       "      <td>141.72</td>\n",
       "    </tr>\n",
       "    <tr>\n",
       "      <th>Cruz, Rafael Edward 'Ted'</th>\n",
       "      <td>57136</td>\n",
       "      <td>6,286,460.34</td>\n",
       "      <td>110.03</td>\n",
       "    </tr>\n",
       "    <tr>\n",
       "      <th>Carson, Benjamin S.</th>\n",
       "      <td>27342</td>\n",
       "      <td>2,952,109.00</td>\n",
       "      <td>107.97</td>\n",
       "    </tr>\n",
       "    <tr>\n",
       "      <th>Sanders, Bernard</th>\n",
       "      <td>371795</td>\n",
       "      <td>18,773,871.31</td>\n",
       "      <td>50.50</td>\n",
       "    </tr>\n",
       "  </tbody>\n",
       "</table>\n",
       "</div>"
      ],
      "text/plain": [
       "                           all_don_count  total_dollars_donated  \\\n",
       "candidate                                                         \n",
       "Gilmore, James S III                   3               8,100.00   \n",
       "Perry, James R. (Rick)               116             208,400.00   \n",
       "Pataki, George E.                     20              30,450.00   \n",
       "Christie, Christopher J.             333             456,066.00   \n",
       "Graham, Lindsey O.                   342             408,595.00   \n",
       "Bush, Jeb                           3114           3,325,536.83   \n",
       "O'Malley, Martin Joseph              397             297,834.26   \n",
       "Jindal, Bobby                         31              23,231.26   \n",
       "Webb, James Henry Jr.                106              76,568.16   \n",
       "Walker, Scott                        713             495,006.90   \n",
       "Johnson, Gary                         77              41,187.60   \n",
       "Kasich, John R.                     2988           1,553,823.54   \n",
       "Lessig, Lawrence                     372             186,144.50   \n",
       "Huckabee, Mike                       531             230,890.60   \n",
       "Santorum, Richard J.                  84              36,304.88   \n",
       "Trump, Donald J.                    2255             893,356.89   \n",
       "Rubio, Marco                       14089           4,846,483.72   \n",
       "Fiorina, Carly                      4696           1,468,489.42   \n",
       "Clinton, Hillary Rodham           163509          39,368,777.01   \n",
       "Paul, Rand                          4256             797,624.29   \n",
       "Stein, Jill                          197              27,918.00   \n",
       "Cruz, Rafael Edward 'Ted'          57136           6,286,460.34   \n",
       "Carson, Benjamin S.                27342           2,952,109.00   \n",
       "Sanders, Bernard                  371795          18,773,871.31   \n",
       "\n",
       "                           avg_doll_donation  \n",
       "candidate                                     \n",
       "Gilmore, James S III                2,700.00  \n",
       "Perry, James R. (Rick)              1,796.55  \n",
       "Pataki, George E.                   1,522.50  \n",
       "Christie, Christopher J.            1,369.57  \n",
       "Graham, Lindsey O.                  1,194.72  \n",
       "Bush, Jeb                           1,067.93  \n",
       "O'Malley, Martin Joseph               750.21  \n",
       "Jindal, Bobby                         749.40  \n",
       "Webb, James Henry Jr.                 722.34  \n",
       "Walker, Scott                         694.26  \n",
       "Johnson, Gary                         534.90  \n",
       "Kasich, John R.                       520.02  \n",
       "Lessig, Lawrence                      500.39  \n",
       "Huckabee, Mike                        434.82  \n",
       "Santorum, Richard J.                  432.20  \n",
       "Trump, Donald J.                      396.17  \n",
       "Rubio, Marco                          343.99  \n",
       "Fiorina, Carly                        312.71  \n",
       "Clinton, Hillary Rodham               240.77  \n",
       "Paul, Rand                            187.41  \n",
       "Stein, Jill                           141.72  \n",
       "Cruz, Rafael Edward 'Ted'             110.03  \n",
       "Carson, Benjamin S.                   107.97  \n",
       "Sanders, Bernard                       50.50  "
      ]
     },
     "execution_count": 14,
     "metadata": {},
     "output_type": "execute_result"
    }
   ],
   "source": [
    "# 2d YOUR CODE HERE\n",
    "df['avg_doll_donation'] = df['total_dollars_donated']/df['all_don_count']\n",
    "df.sort_values('avg_doll_donation', ascending = False)"
   ]
  },
  {
   "cell_type": "markdown",
   "metadata": {},
   "source": [
    "**2e. Plotting a Bar Chart**\n",
    "\n",
    "Make a single bar chart that shows two different bars per candidate with one bar as the total value of the donations and the other as average $ per donation. \n",
    "- Show the Candidates Name on the x-axis\n",
    "- Show the amount on the y-axis\n",
    "- Include a title\n",
    "- Include axis labels\n",
    "- Hint: Make the y-axis a log-scale to show both numbers! (matplotlib docs: https://matplotlib.org/3.1.1/api/_as_gen/matplotlib.pyplot.yscale.html )"
   ]
  },
  {
   "cell_type": "code",
   "execution_count": 15,
   "metadata": {},
   "outputs": [],
   "source": [
    "#Remove the colmn no longer needed \n",
    "df = df.drop('all_don_count', 1)"
   ]
  },
  {
   "cell_type": "code",
   "execution_count": 16,
   "metadata": {},
   "outputs": [
    {
     "data": {
      "image/png": "[encoded data removed]",
      "text/plain": [
       "<Figure size 864x576 with 1 Axes>"
      ]
     },
     "metadata": {
      "needs_background": "light"
     },
     "output_type": "display_data"
    }
   ],
   "source": [
    "# 2e YOUR CODE HERE\n",
    "ax = df.plot(kind='bar', log=True, title='Candidate Donations', figsize=(12,8))\n",
    "ax.set_xlabel(\"Candidate Name\")\n",
    "ax.set_ylabel(\"Dollars Donated (Log10)\")\n",
    "plt.show()"
   ]
  },
  {
   "cell_type": "markdown",
   "metadata": {},
   "source": [
    "**2f. Comment on the results of your data analysis in a short paragraph.**\n",
    "\n",
    "- There are several interesting conclusions you can draw from the table you have created.\n",
    "- What have you learned about campaign contributions in California?\n",
    "- We are looking for data insights here rather than comments on the code!"
   ]
  },
  {
   "cell_type": "markdown",
   "metadata": {},
   "source": [
    "`2f RESPONSE:` Candidates with a smaller average donation, have a greater total dollar donated to that candidate. The majority of California campaign contributions went to two candidates, Bernie Sanders and Hillary Clinton. "
   ]
  },
  {
   "cell_type": "markdown",
   "metadata": {},
   "source": [
    "## 3. Exploring Donor Occupations (30 points)\n",
    "\n",
    "Above in part 2, we saw that some simple data analysis can give us insights into the campaigns of our candidates. Now let's quickly look to see what *kind* of person is donating to each campaign using the `contbr_occupation` variable."
   ]
  },
  {
   "cell_type": "markdown",
   "metadata": {},
   "source": [
    "**3a. Show the top 5 occupations of individuals that contributed to Hillary Clinton.** \n",
    "\n",
    "- Subset your data to create a dataframe with only donations for Hillary Clinton.\n",
    "- Then use the `value_counts` and `head` methods to present the top 5 occupations (`contbr_occupation`) for her donors.\n",
    "- Note: we are just interested in the count of donations, not the value of those donations."
   ]
  },
  {
   "cell_type": "code",
   "execution_count": 32,
   "metadata": {
    "deletable": false,
    "nbgrader": {
     "checksum": "20a71229316bf24a2ce62c52f72d8142",
     "grade": true,
     "grade_id": "cell-963603c5ed346a99",
     "locked": false,
     "points": 0,
     "schema_version": 1,
     "solution": true
    }
   },
   "outputs": [
    {
     "data": {
      "text/plain": [
       "contbr_occupation\n",
       "RETIRED                  33450\n",
       "ATTORNEY                  7315\n",
       "INFORMATION REQUESTED     4742\n",
       "TEACHER                   3591\n",
       "HOMEMAKER                 3436\n",
       "Name: contb_receipt_amt, dtype: int64"
      ]
     },
     "execution_count": 32,
     "metadata": {},
     "output_type": "execute_result"
    }
   ],
   "source": [
    "# 3a YOUR CODE HERE\n",
    "cand = contrib.groupby('cand_nm')\n",
    "hc = cand.get_group('Clinton, Hillary Rodham')\n",
    "don_oc = hc.groupby('contbr_occupation')['contb_receipt_amt'].count().sort_values(ascending = False)\n",
    "don_oc.head(5)"
   ]
  },
  {
   "cell_type": "markdown",
   "metadata": {
    "deletable": false,
    "nbgrader": {
     "checksum": "426b589a9d6457f38381eb1c77678d4f",
     "grade": true,
     "grade_id": "cell-b6fc3f7c906c95a2",
     "locked": false,
     "points": 0,
     "schema_version": 1,
     "solution": true
    }
   },
   "source": [
    "**3b. Write a function called `get_donors`.**\n",
    "\n",
    "Imagine that you want to do the previous operation on several candidates.  To keep your work neat, you want to take the work you did on the Clinton-subset and wrap it in a function that you can apply to other subsets of the data.\n",
    "\n",
    "- The function should take a DataFrame as a parameter, and return a Series containing the counts for the top 5 occupations contained in that DataFrame."
   ]
  },
  {
   "cell_type": "code",
   "execution_count": 29,
   "metadata": {
    "deletable": false,
    "nbgrader": {
     "checksum": "81ebf2a2f96961b4464f6c35d2143427",
     "grade": true,
     "grade_id": "cell-bea2cf7a6fff8565",
     "locked": false,
     "points": 0,
     "schema_version": 1,
     "solution": true
    }
   },
   "outputs": [],
   "source": [
    "def get_donors(df):\n",
    "    \"\"\"This function takes a dataframe that contains a variable named contbr_occupation.\n",
    "    It outputs a Series containing the counts for the 5 most common values of that\n",
    "    variable.\"\"\"\n",
    "    \n",
    "    # 3b YOUR CODE HERE\n",
    "    don_oc = df.groupby('contbr_occupation')['contb_receipt_amt'].count().sort_values(ascending = False)\n",
    "    return don_oc.head(5)"
   ]
  },
  {
   "cell_type": "markdown",
   "metadata": {},
   "source": [
    "**3c. Now run the `get_donors` function on subsets of the dataframe corresponding to three candidates. Show each of the three candidates below.**\n",
    "\n",
    "- Hillary Clinton\n",
    "- Bernie Sanders\n",
    "- Donald Trump"
   ]
  },
  {
   "cell_type": "code",
   "execution_count": 33,
   "metadata": {
    "deletable": false,
    "nbgrader": {
     "checksum": "bffd2778d22127102347386bfb6f5b20",
     "grade": true,
     "grade_id": "cell-4ad1da24176f0450",
     "locked": false,
     "points": 0,
     "schema_version": 1,
     "solution": true
    }
   },
   "outputs": [
    {
     "data": {
      "text/plain": [
       "contbr_occupation\n",
       "RETIRED                  33450\n",
       "ATTORNEY                  7315\n",
       "INFORMATION REQUESTED     4742\n",
       "TEACHER                   3591\n",
       "HOMEMAKER                 3436\n",
       "Name: contb_receipt_amt, dtype: int64"
      ]
     },
     "execution_count": 33,
     "metadata": {},
     "output_type": "execute_result"
    }
   ],
   "source": [
    "# 3c YOUR CODE HERE\n",
    "#Hillary Clinton\n",
    "get_donors(hc)"
   ]
  },
  {
   "cell_type": "code",
   "execution_count": 34,
   "metadata": {},
   "outputs": [
    {
     "data": {
      "text/plain": [
       "contbr_occupation\n",
       "NOT EMPLOYED         96371\n",
       "RETIRED              15048\n",
       "TEACHER              10167\n",
       "SOFTWARE ENGINEER     7861\n",
       "ENGINEER              7094\n",
       "Name: contb_receipt_amt, dtype: int64"
      ]
     },
     "execution_count": 34,
     "metadata": {},
     "output_type": "execute_result"
    }
   ],
   "source": [
    "#Bernie Sanders\n",
    "bs = cand.get_group('Sanders, Bernard')\n",
    "get_donors(bs)"
   ]
  },
  {
   "cell_type": "code",
   "execution_count": 35,
   "metadata": {},
   "outputs": [
    {
     "data": {
      "text/plain": [
       "contbr_occupation\n",
       "RETIRED                  849\n",
       "INFORMATION REQUESTED     70\n",
       "CEO                       57\n",
       "OWNER                     51\n",
       "PRESIDENT                 35\n",
       "Name: contb_receipt_amt, dtype: int64"
      ]
     },
     "execution_count": 35,
     "metadata": {},
     "output_type": "execute_result"
    }
   ],
   "source": [
    "#Donald Trump\n",
    "dt = cand.get_group('Trump, Donald J.')\n",
    "get_donors(dt)"
   ]
  },
  {
   "cell_type": "markdown",
   "metadata": {},
   "source": [
    "**3d. Finally, use `groupby` to separate the entire dataset by candidate.**\n",
    "\n",
    "- Call .apply(get_donors) on your groupby object, which will apply the function you wrote to each subset of your data.\n",
    "- Look at your output and marvel at what pandas can do in just one line!"
   ]
  },
  {
   "cell_type": "code",
   "execution_count": 36,
   "metadata": {},
   "outputs": [
    {
     "data": {
      "text/plain": [
       "cand_nm                    contbr_occupation                     \n",
       "Bush, Jeb                  RETIRED                                     996\n",
       "                           HOMEMAKER                                   180\n",
       "                           ATTORNEY                                     92\n",
       "                           Q.A.                                         89\n",
       "                           PRESIDENT                                    84\n",
       "Carson, Benjamin S.        RETIRED                                   13692\n",
       "                           INFORMATION REQUESTED PER BEST EFFORTS     1614\n",
       "                           HOMEMAKER                                  1049\n",
       "                           PHYSICIAN                                   329\n",
       "                           R.N.                                        234\n",
       "Christie, Christopher J.   RETIRED                                      38\n",
       "                           NONE                                         22\n",
       "                           CONSULTANT                                   18\n",
       "                           CEO                                          16\n",
       "                           HOMEMAKER                                    15\n",
       "Clinton, Hillary Rodham    RETIRED                                   33450\n",
       "                           ATTORNEY                                   7315\n",
       "                           INFORMATION REQUESTED                      4742\n",
       "                           TEACHER                                    3591\n",
       "                           HOMEMAKER                                  3436\n",
       "Cruz, Rafael Edward 'Ted'  RETIRED                                   22956\n",
       "                           INFORMATION REQUESTED PER BEST EFFORTS     1651\n",
       "                           HOMEMAKER                                  1261\n",
       "                           ENGINEER                                   1080\n",
       "                           TEACHER                                     838\n",
       "Fiorina, Carly             RETIRED                                    1971\n",
       "                           HOMEMAKER                                   169\n",
       "                           ATTORNEY                                    140\n",
       "                           INFORMATION REQUESTED PER BEST EFFORTS       95\n",
       "                           INVESTOR                                     64\n",
       "Gilmore, James S III       INVESTMENT MANAGEMENT                         1\n",
       "                           FINANCIAL ADVISOR                             1\n",
       "                           COB                                           1\n",
       "Graham, Lindsey O.         RETIRED                                      78\n",
       "                           INFORMATION REQUESTED PER BEST EFFORTS       20\n",
       "                           PRINCIPAL                                    15\n",
       "                           EXECUTIVE                                    15\n",
       "                           PORTFOLIO MANAGER                            14\n",
       "Huckabee, Mike             RETIRED                                     206\n",
       "                           REQUESTED PER BEST EFFORTS                   36\n",
       "                           HOMEMAKER                                    22\n",
       "                           OWNER                                        13\n",
       "                           FUNERAL DIRECTOR                             12\n",
       "Jindal, Bobby              RETIRED                                       5\n",
       "                           ENGINEER                                      4\n",
       "                           PROFESSOR                                     3\n",
       "                           REALTOR                                       2\n",
       "                           PRESIDENT                                     2\n",
       "Johnson, Gary              RETIRED                                      18\n",
       "                           TWICE REQUESTED, NOT RECEIVED                14\n",
       "                           SOFTWARE ENGINEER                             5\n",
       "                           ELECTRONIC TECHNICIAN                         3\n",
       "                           FARMER                                        2\n",
       "Kasich, John R.            RETIRED                                     725\n",
       "                           ATTORNEY                                    131\n",
       "                           CEO                                          77\n",
       "                           HOMEMAKER                                    67\n",
       "                           PRESIDENT                                    65\n",
       "Lessig, Lawrence           SOFTWARE ENGINEER                            56\n",
       "                           DEVELOPER                                    42\n",
       "                           RETIRED                                      26\n",
       "                           ATTORNEY                                     20\n",
       "                           ENGINEER                                     18\n",
       "O'Malley, Martin Joseph    RETIRED                                      52\n",
       "                           ATTORNEY                                     26\n",
       "                           LECTURER                                     23\n",
       "                           CONSULTANT                                   20\n",
       "                           PHYSICIAN                                    15\n",
       "Pataki, George E.          ATTORNEY                                      3\n",
       "                           PRESIDENT                                     2\n",
       "                           INFORMATION REQUESTED                         2\n",
       "                           HOMEMAKER                                     2\n",
       "                           STUDENT                                       1\n",
       "Paul, Rand                 RETIRED                                     874\n",
       "                           ENGINEER                                    335\n",
       "                           INFORMATION REQUESTED                       193\n",
       "                           CONSULTANT                                   95\n",
       "                           HOMEMAKER                                    82\n",
       "Perry, James R. (Rick)     HOMEMAKER                                    11\n",
       "                           PRESIDENT                                    11\n",
       "                           EXECUTIVE                                     7\n",
       "                           ATTORNEY                                      7\n",
       "                           OWNER                                         5\n",
       "Rubio, Marco               RETIRED                                    5579\n",
       "                           HOMEMAKER                                   627\n",
       "                           INFORMATION REQUESTED PER BEST EFFORTS      491\n",
       "                           ATTORNEY                                    346\n",
       "                           PRESIDENT                                   197\n",
       "Sanders, Bernard           NOT EMPLOYED                              96371\n",
       "                           RETIRED                                   15048\n",
       "                           TEACHER                                   10167\n",
       "                           SOFTWARE ENGINEER                          7861\n",
       "                           ENGINEER                                   7094\n",
       "Santorum, Richard J.       RETIRED                                      44\n",
       "                           ENGINEER                                      5\n",
       "                           MACHINIST                                     4\n",
       "                           PSYCHOLOGIST                                  3\n",
       "                           CUSTOMER SERVICE                              3\n",
       "Stein, Jill                RETIRED                                      32\n",
       "                           RESEARCHER                                   25\n",
       "                           WRITER                                       20\n",
       "                           FORMAL FINANCIAL SERVICES EMPLOYEE            9\n",
       "                           SOFTWARE ENGINEER                             9\n",
       "Trump, Donald J.           RETIRED                                     849\n",
       "                           INFORMATION REQUESTED                        70\n",
       "                           CEO                                          57\n",
       "                           OWNER                                        51\n",
       "                           PRESIDENT                                    35\n",
       "Walker, Scott              RETIRED                                     232\n",
       "                           INFORMATION REQUESTED                        70\n",
       "                           PRESIDENT                                    37\n",
       "                           HOMEMAKER                                    34\n",
       "                           ATTORNEY                                     31\n",
       "Webb, James Henry Jr.      RETIRED                                      14\n",
       "                           ATTORNEY                                      8\n",
       "                           DEPUTY DISTRICT ATTORNEY                      7\n",
       "                           MATH EDUCATOR                                 5\n",
       "                           NOT EMPLOYED                                  5\n",
       "Name: contb_receipt_amt, dtype: int64"
      ]
     },
     "execution_count": 36,
     "metadata": {},
     "output_type": "execute_result"
    }
   ],
   "source": [
    "# 3d YOUR CODE HERE\n",
    "contrib.groupby('cand_nm').apply(get_donors)"
   ]
  },
  {
   "cell_type": "markdown",
   "metadata": {
    "collapsed": true,
    "deletable": false,
    "nbgrader": {
     "checksum": "14c2855e3d59f0da6b1afd5cf0da2da8",
     "grade": true,
     "grade_id": "cell-fd840cdd19d2bd2a",
     "locked": false,
     "points": 0,
     "schema_version": 1,
     "solution": true
    }
   },
   "source": [
    "**3e. Comment on your data insights & findings in a short paragraph.**"
   ]
  },
  {
   "cell_type": "markdown",
   "metadata": {
    "deletable": false,
    "nbgrader": {
     "checksum": "43ce3d15cee7ab73f53fd8f054c9826c",
     "grade": true,
     "grade_id": "cell-dce8d3107c1463ca",
     "locked": false,
     "points": 0,
     "schema_version": 1,
     "solution": true
    }
   },
   "source": [
    "`3e RESPONSE:` Where are all these retired and unemployed people getting thefunds to make all these donations? I also find it surprising that there is such a large amount of \"Information Requested\" along with variations of the phrase, listed as the occupation. It is a clean way of dealing with missing values but could be consolidated. Additionally, some of the occupations could be cleaned up, for example math teacher, teacher and professor are all in education."
   ]
  },
  {
   "cell_type": "markdown",
   "metadata": {},
   "source": [
    "**3f. Think about your findings in section 3 vs. your findings in section 2 of this assignment.**\n",
    "\n",
    "Do you have any new data insights into the results you saw in section 2 now that you see the top occupations for each candidate?"
   ]
  },
  {
   "cell_type": "markdown",
   "metadata": {
    "deletable": false,
    "nbgrader": {
     "checksum": "a5f4e6df0f32e24c492a9589ec87fef6",
     "grade": true,
     "grade_id": "cell-9e3f68b21dac8e10",
     "locked": false,
     "points": 0,
     "schema_version": 1,
     "solution": true
    }
   },
   "source": [
    "`3f RESPONSE:` Candidates with more dollars donated may have targeted particular groups more thoroughly the top 5 donations by occupation number in the thousands. These candidate's had a stronger understanding of their base. Side note: I find it really interesting that Carly Fiorina did not have any occupations in technology even though she came from that industry. She couldn't win over Silicon Valley. "
   ]
  },
  {
   "cell_type": "markdown",
   "metadata": {},
   "source": [
    "\n",
    "## 4. Plotting Data (20 points)\n",
    "\n",
    "There is an important element that we have not yet explored in this dataset - time."
   ]
  },
  {
   "cell_type": "markdown",
   "metadata": {},
   "source": [
    "**4a. Present a single line chart with the following elements.**\n",
    "\n",
    "- Show the date on the x-axis\n",
    "- Show the contribution amount on the y-axis\n",
    "- Include a title\n",
    "- Include axis labels"
   ]
  },
  {
   "cell_type": "code",
   "execution_count": 39,
   "metadata": {
    "deletable": false,
    "nbgrader": {
     "checksum": "4f1a9e7ee0ded9d2b5af5777cb85e505",
     "grade": true,
     "grade_id": "cell-c14fbed9d72d54e3",
     "locked": false,
     "points": 0,
     "schema_version": 1,
     "solution": true
    }
   },
   "outputs": [
    {
     "data": {
      "image/png": "[encoded data removed]",
      "text/plain": [
       "<Figure size 432x288 with 1 Axes>"
      ]
     },
     "metadata": {
      "needs_background": "light"
     },
     "output_type": "display_data"
    }
   ],
   "source": [
    "# 4a YOUR CODE HERE\n",
    "lp = contrib.plot.line(x='contb_receipt_dt', y='contb_receipt_amt', title ='Total Donations by Date')\n",
    "lp.set_xlabel(\"Date of Donation\")\n",
    "lp.set_ylabel(\"Dollars Donated\")\n",
    "plt.show()"
   ]
  },
  {
   "cell_type": "markdown",
   "metadata": {},
   "source": [
    "**4b. Make a better time-series line chart**\n",
    "\n",
    "This chart is messy and it is hard to gain insights from it.  Improve the chart from 4a so that your new chart shows a specific insight. In the spot provided, write the insight(s) that can be gained from this new time-series line chart."
   ]
  },
  {
   "cell_type": "code",
   "execution_count": 45,
   "metadata": {
    "deletable": false,
    "nbgrader": {
     "checksum": "6dc1481a003cdd752c5edfa9ac400879",
     "grade": true,
     "grade_id": "cell-f7a01ce9c5b10ac7",
     "locked": false,
     "points": 0,
     "schema_version": 1,
     "solution": true
    }
   },
   "outputs": [
    {
     "data": {
      "image/png": "[encoded data removed]",
      "text/plain": [
       "<Figure size 864x576 with 1 Axes>"
      ]
     },
     "metadata": {
      "needs_background": "light"
     },
     "output_type": "display_data"
    }
   ],
   "source": [
    "# 4b YOUR CODE HERE\n",
    "adt = contrib.groupby('contb_receipt_dt')['contb_receipt_amt'].sum()\n",
    "\n",
    "ap = adt.plot.line(x='contb_receipt_dt', y='contb_receipt_amt', title ='Total Donations by Date', figsize=(12,8))\n",
    "ap.set_xlabel(\"Date of Donation\")\n",
    "ap.set_ylabel(\"Sum of Dollars Donated\")\n",
    "plt.show()"
   ]
  },
  {
   "cell_type": "markdown",
   "metadata": {
    "deletable": false,
    "nbgrader": {
     "checksum": "010f5de5f6af4c7f830d1cf7a81bbc0f",
     "grade": true,
     "grade_id": "cell-5617179133b06d0c",
     "locked": false,
     "points": 0,
     "schema_version": 1,
     "solution": true
    }
   },
   "source": [
    "`4b RESPONSE:` The chart above looks at the sum of the donations on any given date. We can clearly see spikes in donations as we get closer to the primary election nominations. We can also see a spike in refunds near the time of party nominations."
   ]
  },
  {
   "cell_type": "markdown",
   "metadata": {},
   "source": [
    "## If you have feedback for this homework, please submit it using the link below:\n",
    "\n",
    "http://goo.gl/forms/74yCiQTf6k"
   ]
  }
 ],
 "metadata": {
  "kernelspec": {
   "display_name": "Python 3",
   "language": "python",
   "name": "python3"
  },
  "language_info": {
   "codemirror_mode": {
    "name": "ipython",
    "version": 3
   },
   "file_extension": ".py",
   "mimetype": "text/x-python",
   "name": "python",
   "nbconvert_exporter": "python",
   "pygments_lexer": "ipython3",
   "version": "3.7.3"
  }
 },
 "nbformat": 4,
 "nbformat_minor": 2
}

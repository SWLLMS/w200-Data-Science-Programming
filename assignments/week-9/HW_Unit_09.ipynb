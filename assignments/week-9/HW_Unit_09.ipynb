{
 "cells": [
  {
   "cell_type": "markdown",
   "metadata": {
    "deletable": false,
    "editable": false,
    "nbgrader": {
     "cell_type": "markdown",
     "checksum": "15b87721218c9cd1f2a9360ea1e9a251",
     "grade": false,
     "grade_id": "cell-76038a88b4d3af8c",
     "locked": true,
     "schema_version": 3,
     "solution": false
    }
   },
   "source": [
    "## Unit 9 Assignment - W200 Introduction to Data Science Programming, UC Berkeley MIDS\n",
    "\n",
    "Write code in this Jupyter Notebook to solve the following problems. Please upload this **Notebook and the five .csv files** with your solutions to your GitHub repository in your SUBMISSIONS/week_10 folder by 11:59PM PST the night before class."
   ]
  },
  {
   "cell_type": "markdown",
   "metadata": {
    "deletable": false,
    "editable": false,
    "nbgrader": {
     "cell_type": "markdown",
     "checksum": "c23f7fc9d9970d3da7cc114e7d58d8de",
     "grade": false,
     "grade_id": "cell-ae5d30c3c3f47580",
     "locked": true,
     "schema_version": 3,
     "solution": false
    }
   },
   "source": [
    "This homework assignment is assigned during Week 10 but corresponds to the Unit #9 async."
   ]
  },
  {
   "cell_type": "markdown",
   "metadata": {
    "deletable": false,
    "editable": false,
    "nbgrader": {
     "cell_type": "markdown",
     "checksum": "6b52c4ac0395c1e0a459473b439e2153",
     "grade": false,
     "grade_id": "cell-5977c1d8f1d55d67",
     "locked": true,
     "schema_version": 3,
     "solution": false
    }
   },
   "source": [
    "## Objectives\n",
    "\n",
    "- Demonstrate how to import different data files\n",
    "- Get a small glimpse on how messy data can be\n",
    "- Design and implement an algorithm to standardize the information and fix the messiness\n",
    "- Work with Python data structures to sort and output the correct information\n",
    "- Demonstrate how to export required information to a .csv file"
   ]
  },
  {
   "cell_type": "markdown",
   "metadata": {
    "deletable": false,
    "editable": false,
    "nbgrader": {
     "cell_type": "markdown",
     "checksum": "2c14663ff2d7819ac8f8abe12c58dd5e",
     "grade": false,
     "grade_id": "cell-f3df226b1112e4f1",
     "locked": true,
     "schema_version": 3,
     "solution": false
    }
   },
   "source": [
    "## Reading and Writing Data (25 Points)\n",
    "\n",
    "In this assignment, you will be reading and writing data. Yes, finally some data science (or at least some exploratory data analysis)! In the week_10 assignment folder, there are three data files named: \n",
    "\n",
    "* data.csv\n",
    "* data.json\n",
    "* data.pkl\n",
    "\n",
    "These are three common file formats. You can run the following **on the bash command line** to see what is in each file (this will not work from a Windows prompt but will work in git bash):\n",
    "\n",
    "```sh\n",
    "head data.csv\n",
    "head data.pkl\n",
    "head data.json\n",
    "```\n",
    "\n",
    "You'll see that there is some method to the madness but that each file format has its peculiarities. Each file contains a portion of the total dataset that altogether comprises 100 records, so you need to **read in all of the files and combine them into some standard format** with which you are comfortable. Aim for something standard where each \"row\" is represented in the same format. **Name this object that contains the data for all three files combined ```full_data```**\n",
    "\n",
    "### Questions to answer (75 points: each question is worth 15 points):\n",
    "After you've standardized all of the data, report the following information: \n",
    "\n",
    "1. What are the unique countries in the dataset, sorted alphabetically?  Write to a new file called question_1.csv.\n",
    "2. What are the unique complete email domains in the dataset, sorted alphabetically?  Write to a new file called question_2.csv. \n",
    "3. What are the first names of everyone (including duplicates) that do not have a P.O. Box address, sorted alphabetically?  Write to a new file called question_3.csv.\n",
    "4. What are the full names of the first 5 people when you sort the data alphabetically by country?  Write to a new file called question_4.csv.\n",
    "5. What are the full names of the first 5 people when you sort the data numerically ascending by phone number?  Write to a new file called question_5.csv.\n",
    "\n",
    "We will be using a script to examine and grade your .csv files so please make sure: \n",
    "- The answers are all in one **column** with one list item per cell, sorted as stated in the question. I.e., looking at the .csv in a spreadsheet editor like Google Sheets, all answers would be in the 'A' column, with the first entry in A1, the second in A2, etc.\n",
    "- Please do not include a header; just the answers to the questions.\n",
    "- It is strongly recommended that you open each .csv file to ensure the answers are there and displayed correctly! \n",
    "- Don't include quotes around the list items.  I.e., strip the leading and trailing quotes, if necessary, from items when you write to the .csv files.  For example, a list entry should look like ```Spain``` rather than ```\"Spain\"```. One exception: Some country names do contain commas and it is ok to have quotes: ```\"\"``` around just those country names so that they will be in one cell in the .csv. \n",
    "\n",
    "\n",
    "In addition, show all of your work in this **Jupyter notebook**."
   ]
  },
  {
   "cell_type": "markdown",
   "metadata": {
    "deletable": false,
    "editable": false,
    "nbgrader": {
     "cell_type": "markdown",
     "checksum": "635f227045350bca94591906e3873ad2",
     "grade": false,
     "grade_id": "cell-ad4b864c26503a51",
     "locked": true,
     "schema_version": 3,
     "solution": false
    }
   },
   "source": [
    "### Assumptions\n",
    "\n",
    "- You might have to make decisions about the data. For example, what to do with ties or how to sort the phone numbers numerically. \n",
    "- Write your assumptions in this Jupyter notebook at the top of your code under the heading below that says ASSUMPTIONS\n",
    "- Please do some research before making an assumption (e.g. what is a domain name?); put your notes inside that assumption so we can understand your thought process. \n",
    "  - NOTE: If you don't know what an email domain is - do some research and write what you found in your assumptions; there is a correct answer to this question! \n",
    "- This is a good habit to do as you analyze data so that you can remember why you made the decisions you did and other people can follow your analysis later!"
   ]
  },
  {
   "cell_type": "markdown",
   "metadata": {
    "deletable": false,
    "editable": false,
    "nbgrader": {
     "cell_type": "markdown",
     "checksum": "57450666cda1cb410247d946aa6801fe",
     "grade": false,
     "grade_id": "cell-ac3d57f37fc71750",
     "locked": true,
     "schema_version": 3,
     "solution": false
    }
   },
   "source": [
    "### Restrictions\n",
    "You should use these standard library imports:\n",
    "\n",
    "```python\n",
    "import json\n",
    "import csv\n",
    "import pickle\n",
    "```\n",
    "\n",
    "Some of you may be familiar with a Python package called `pandas` which would greatly speed up this sort of file processing.  The point of this homework is to do the work manually.  You can use `pandas` to independently check your work if you are so inclined but do not use `pandas` as the sole solution method. Don't worry if you are not familiar with `pandas`.  We will do this homework as a class exercise using `pandas` in the near future."
   ]
  },
  {
   "cell_type": "markdown",
   "metadata": {
    "deletable": false,
    "editable": false,
    "nbgrader": {
     "cell_type": "markdown",
     "checksum": "86514456a34f356155016417a7d3a6e8",
     "grade": false,
     "grade_id": "cell-f8df9d752522f9cd",
     "locked": true,
     "schema_version": 3,
     "solution": false
    }
   },
   "source": [
    "### Hints (optional)\n",
    "\n",
    "- You may use regular expressions if you wish to extract data from each row. You do not need to use them if you do not want to or see a need to. The Python regular expression module is called `re`.\n",
    "- You may want to use the operator library or the sorted function to help in sorting.\n",
    "- There are many data structures and formats that you might use to solve this problem.  You will have to decide if you want to keep the information for each person together as one record or all the information for each of the fields together.\n",
    "- You can put these files into sensible structures such as lists or or dictionaries. The async covers how to do this for csv and json. For pickle this might help https://wiki.python.org/moin/UsingPickle \n",
    "- .items() or .key() can be useful for dictionaries\n",
    "- Once again, it is strongly recommended that you open each .csv file to ensure the answers are there and displayed correctly! "
   ]
  },
  {
   "cell_type": "code",
   "execution_count": 23,
   "metadata": {
    "deletable": false,
    "nbgrader": {
     "cell_type": "code",
     "checksum": "97005fc8cbd95ef4164db798e727a63f",
     "grade": true,
     "grade_id": "cell-360398972d1182f1",
     "locked": false,
     "points": 0,
     "schema_version": 3,
     "solution": true
    }
   },
   "outputs": [],
   "source": [
    "# Samantha Williams\n",
    "\n",
    "### ASSUMPTIONS:\n",
    "# 0-99 is used as the index of the dataframe, (if we could create one in pandas)\n",
    "# Please keep this code at the very top of your code block so we can easily see it while grading!\n",
    "\n",
    "# YOU MAY USE ANY NUMBER OF CELLS AS YOU NEED\n",
    "# YOUR CODE HERE"
   ]
  },
  {
   "cell_type": "code",
   "execution_count": 54,
   "metadata": {},
   "outputs": [],
   "source": [
    "import json\n",
    "import csv\n",
    "import pickle\n",
    "import numpy as np"
   ]
  },
  {
   "cell_type": "code",
   "execution_count": 3,
   "metadata": {},
   "outputs": [
    {
     "name": "stdout",
     "output_type": "stream",
     "text": [
      "Header row. Ignoring.\n"
     ]
    }
   ],
   "source": [
    "full_data = {} \n",
    "#Creating a map to put all the data in.\n",
    "\n",
    "with open(\"data.csv\", \"r\") as infile:\n",
    "    csv_reader = csv.reader(infile)\n",
    "    for line in csv_reader:\n",
    "        if line[0]== '':\n",
    "            print(\"Header row. Ignoring.\")\n",
    "        else:\n",
    "            full_data[line[0]] = {\n",
    "                'Name': line[1],\n",
    "                'Phone' : line[2],\n",
    "                'Address' : line[3],\n",
    "                'City' : line[4],\n",
    "                'Country' : line[5],\n",
    "                'Email': line[6]\n",
    "            }\n",
    "#checking that all 20 lines of data.csv were added to full_data.\n",
    "assert len(full_data) == 20"
   ]
  },
  {
   "cell_type": "code",
   "execution_count": 4,
   "metadata": {},
   "outputs": [],
   "source": [
    "assert len(full_data) == 20\n",
    "\n",
    "with open(\"data.json\", \"rt\") as jsondata:\n",
    "    jdata = json.loads(jsondata.read())\n",
    "\n",
    "    for column_name in jdata.keys():\n",
    "        submap = jdata[column_name]\n",
    "        \n",
    "        for entry in submap.keys():\n",
    "            tmp_map = full_data[entry] if entry in full_data else {}\n",
    "#             tmp_map = {}\n",
    "#             if entry in full_data:\n",
    "#                 tmp_map = full_data[entry]\n",
    "                \n",
    "            tmp_map[column_name] = submap[entry]\n",
    "            full_data[entry] = tmp_map\n",
    "            #e.g. column name = 'Name', entry = 20....39\n",
    "\n",
    "#checking that lines 20-39 of data.json were added to full_data.\n",
    "assert len(full_data) == 40\n",
    "            "
   ]
  },
  {
   "cell_type": "code",
   "execution_count": 5,
   "metadata": {},
   "outputs": [],
   "source": [
    "assert len(full_data) == 40\n",
    "\n",
    "with open(\"data.pkl\", \"rb\") as pklfile:\n",
    "    pdata = pickle.load(pklfile)\n",
    "\n",
    "    for column_name in pdata.keys():\n",
    "        submap = pdata[column_name]\n",
    "        \n",
    "        for entry in submap.keys():\n",
    "            tmp_map = full_data[entry] if entry in full_data else {}\n",
    "                \n",
    "            tmp_map[column_name] = submap[entry]\n",
    "            full_data[entry] = tmp_map\n",
    "            #e.g. column name = 'Name', entry = 20....39\n",
    "\n",
    "#checking that lines 40-99 of data.pkl were added to full_data.\n",
    "assert len(full_data) == 100"
   ]
  },
  {
   "cell_type": "code",
   "execution_count": 6,
   "metadata": {},
   "outputs": [],
   "source": [
    "#create the full_data.csv file\n",
    "\n",
    "with open('full_data.csv', 'w', newline='') as f:\n",
    "    thewriter = csv.writer(f)\n",
    "    thewriter.writerow(['Index', 'Name', 'Phone', 'Address', 'City', 'Country', 'Email'])\n",
    "    \n",
    "    for idx in full_data.keys():\n",
    "        tmp_dict = full_data[idx]\n",
    "        tmp_array = [idx, tmp_dict['Name'], tmp_dict['Phone'], tmp_dict['Address'], tmp_dict['City'], tmp_dict['Country'], tmp_dict['Email']]\n",
    "        thewriter.writerow(tmp_array)"
   ]
  },
  {
   "cell_type": "code",
   "execution_count": 53,
   "metadata": {},
   "outputs": [],
   "source": [
    "#What are the unique countries in the dataset, sorted alphabetically? \n",
    "#Write to a new file called question_1.csv.\n",
    "\n",
    "countries = []\n",
    "for idx, item in enumerate(full_data.items()):\n",
    "    countries.append(item[1]['Country'])\n",
    "\n",
    "unique = np.unique(np.array(countries))\n",
    "\n",
    "with open('question_1.csv', 'w', newline='') as f:\n",
    "    for i in unique:\n",
    "        f.write(\"{},\\n\".format(i))"
   ]
  },
  {
   "cell_type": "code",
   "execution_count": 63,
   "metadata": {},
   "outputs": [],
   "source": [
    "#What are the unique complete email domains in the dataset, sorted alphabetically? \n",
    "#Write to a new file called question_2.csv.\n",
    "\n",
    "email_domains = []\n",
    "for idx, item in enumerate(full_data.items()):\n",
    "    email = item[1]['Email']\n",
    "    email_domains.append(email.split('@')[1])\n",
    "\n",
    "unique = np.unique(np.array(email_domains))\n",
    "\n",
    "with open('question_2.csv', 'w', newline='') as f:\n",
    "    for i in unique:\n",
    "        f.write(\"{},\\n\".format(i))"
   ]
  },
  {
   "cell_type": "code",
   "execution_count": 99,
   "metadata": {},
   "outputs": [],
   "source": [
    "#What are the first names of everyone (including duplicates) \n",
    "#that do not have a P.O. Box address, sorted alphabetically? \n",
    "#Write to a new file called question_3.csv.\n",
    "\n",
    "not_po_box = []\n",
    "for idx, item in enumerate(full_data.items()):\n",
    "    add = item[1]['Address']\n",
    "    if \"P.O\" not in add:\n",
    "        full_name = item[1]['Name']\n",
    "        first_name = full_name.split(' ')[0]\n",
    "        not_po_box.append(first_name)\n",
    "\n",
    "not_po_box = np.sort(not_po_box)\n",
    "        \n",
    "with open('question_3.csv', 'w', newline='') as f:\n",
    "    for i in not_po_box:\n",
    "        f.write(\"{},\\n\".format(i))"
   ]
  },
  {
   "cell_type": "code",
   "execution_count": 103,
   "metadata": {},
   "outputs": [],
   "source": [
    "#What are the full names of the first 5 people \n",
    "#when you sort the data alphabetically by country? \n",
    "#Write to a new file called question_4.csv.\n",
    "countries = []\n",
    "for idx, item in enumerate(full_data.items()):\n",
    "    countries.append([item[1]['Country'], item[1]['Name']])\n",
    "#d = so\n",
    "countries.sort(key=lambda x: x[0])\n",
    "#print(countries)\n",
    "\n",
    "        \n",
    "with open('question_4.csv', 'w', newline='') as f:\n",
    "    for i,item in enumerate(countries):\n",
    "        if i > 4:\n",
    "            break\n",
    "            \n",
    "        f.write(\"{},\\n\".format(item[1]))"
   ]
  },
  {
   "cell_type": "code",
   "execution_count": 112,
   "metadata": {},
   "outputs": [
    {
     "name": "stdout",
     "output_type": "stream",
     "text": [
      "['102-2189', 'Jenna Mercado']\n",
      "['105-7695', 'Drake Savage']\n",
      "['111-1453', 'Adara Estrada']\n",
      "['123-5058', 'Camden Z. Blair']\n",
      "['135-9618', 'Reuben Skinner']\n",
      "['142-2607', 'Blossom Chandler']\n"
     ]
    }
   ],
   "source": [
    "#What are the full names of the first 5 people\n",
    "#when you sort the data numerically ascending by phone number? \n",
    "#Write to a new file called question_5.csv.\n",
    "\n",
    "phones = []\n",
    "for idx, item in enumerate(full_data.items()):\n",
    "    phone = item[1]['Phone']\n",
    "    if phone.count('-') == 3:\n",
    "        phone = \"{}-{}\".format(phone.split('-')[2], phone.split('-')[3])\n",
    "             \n",
    "    phones.append([phone, item[1]['Name']])\n",
    "    \n",
    "phones.sort(key=lambda x: x[0])\n",
    "        \n",
    "with open('question_5.csv', 'w', newline='') as f:\n",
    "    for i,item in enumerate(phones):\n",
    "        print(item)\n",
    "        if i > 4:\n",
    "            break\n",
    "            \n",
    "        f.write(\"{},\\n\".format(item[1]))"
   ]
  },
  {
   "cell_type": "code",
   "execution_count": null,
   "metadata": {
    "deletable": false,
    "editable": false,
    "nbgrader": {
     "cell_type": "code",
     "checksum": "b72924766f14c62e1e59d2a7fa58fac9",
     "grade": true,
     "grade_id": "cell-74508624757f05eb",
     "locked": true,
     "points": 15,
     "schema_version": 3,
     "solution": false
    }
   },
   "outputs": [],
   "source": [
    "# Autograde cell - do not erase/delete"
   ]
  },
  {
   "cell_type": "code",
   "execution_count": null,
   "metadata": {
    "deletable": false,
    "editable": false,
    "nbgrader": {
     "cell_type": "code",
     "checksum": "61094a28e1c8a229ddc972e1decaaa7c",
     "grade": true,
     "grade_id": "cell-3279313500065f9f",
     "locked": true,
     "points": 10,
     "schema_version": 3,
     "solution": false
    }
   },
   "outputs": [],
   "source": [
    "# Autograde cell - do not erase/delete"
   ]
  },
  {
   "cell_type": "code",
   "execution_count": null,
   "metadata": {
    "deletable": false,
    "editable": false,
    "nbgrader": {
     "cell_type": "code",
     "checksum": "a9c88cdddbf58183e90a3778ad1fe5b4",
     "grade": true,
     "grade_id": "cell-3e8cd92ecc8d286f",
     "locked": true,
     "points": 15,
     "schema_version": 3,
     "solution": false
    }
   },
   "outputs": [],
   "source": [
    "# Autograde cell - do not erase/delete"
   ]
  },
  {
   "cell_type": "code",
   "execution_count": null,
   "metadata": {
    "deletable": false,
    "editable": false,
    "nbgrader": {
     "cell_type": "code",
     "checksum": "d6ead2aaf9e4412073744c9e8e307a9b",
     "grade": true,
     "grade_id": "cell-4c4abfb9df4037df",
     "locked": true,
     "points": 15,
     "schema_version": 3,
     "solution": false
    }
   },
   "outputs": [],
   "source": [
    "# Autograde cell - do not erase/delete"
   ]
  },
  {
   "cell_type": "code",
   "execution_count": null,
   "metadata": {
    "deletable": false,
    "editable": false,
    "nbgrader": {
     "cell_type": "code",
     "checksum": "e2db3c9236bccf54a1aca338f9a4607d",
     "grade": true,
     "grade_id": "cell-43e8a4cadc4f7f39",
     "locked": true,
     "points": 15,
     "schema_version": 3,
     "solution": false
    }
   },
   "outputs": [],
   "source": [
    "# Autograde cell - do not erase/delete"
   ]
  },
  {
   "cell_type": "code",
   "execution_count": null,
   "metadata": {
    "deletable": false,
    "editable": false,
    "nbgrader": {
     "cell_type": "code",
     "checksum": "cd709de9cced0764ed39edc63e0da0b9",
     "grade": true,
     "grade_id": "cell-e5bf902a45a8dd69",
     "locked": true,
     "points": 15,
     "schema_version": 3,
     "solution": false
    }
   },
   "outputs": [],
   "source": [
    "# Autograde cell - do not erase/delete"
   ]
  },
  {
   "cell_type": "code",
   "execution_count": null,
   "metadata": {
    "deletable": false,
    "editable": false,
    "nbgrader": {
     "cell_type": "code",
     "checksum": "b59a38d2f8056f5b6a3492a5e4525ea7",
     "grade": true,
     "grade_id": "cell-2f15bb137bfe5b16",
     "locked": true,
     "points": 15,
     "schema_version": 3,
     "solution": false
    }
   },
   "outputs": [],
   "source": [
    "# Autograde cell - do not erase/delete"
   ]
  }
 ],
 "metadata": {
  "anaconda-cloud": {},
  "kernelspec": {
   "display_name": "Python 3",
   "language": "python",
   "name": "python3"
  },
  "language_info": {
   "codemirror_mode": {
    "name": "ipython",
    "version": 3
   },
   "file_extension": ".py",
   "mimetype": "text/x-python",
   "name": "python",
   "nbconvert_exporter": "python",
   "pygments_lexer": "ipython3",
   "version": "3.7.3"
  }
 },
 "nbformat": 4,
 "nbformat_minor": 1
}

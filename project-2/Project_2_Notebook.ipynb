{
 "cells": [
  {
   "cell_type": "markdown",
   "metadata": {},
   "source": [
    "# Project 2: Andreas Lemos, Omar Kapur, Samantha Williams\n",
    "## w200 | Thursday 4pm PST"
   ]
  },
  {
   "cell_type": "code",
   "execution_count": 1,
   "metadata": {},
   "outputs": [],
   "source": [
    "import pandas as pd\n",
    "import numpy as np\n",
    "import matplotlib.pyplot as plt\n",
    "import seaborn as sns\n",
    "import csv\n",
    "%matplotlib inline\n"
   ]
  },
  {
   "cell_type": "code",
   "execution_count": 3,
   "metadata": {},
   "outputs": [
    {
     "data": {
      "text/html": [
       "<div>\n",
       "<style scoped>\n",
       "    .dataframe tbody tr th:only-of-type {\n",
       "        vertical-align: middle;\n",
       "    }\n",
       "\n",
       "    .dataframe tbody tr th {\n",
       "        vertical-align: top;\n",
       "    }\n",
       "\n",
       "    .dataframe thead th {\n",
       "        text-align: right;\n",
       "    }\n",
       "</style>\n",
       "<table border=\"1\" class=\"dataframe\">\n",
       "  <thead>\n",
       "    <tr style=\"text-align: right;\">\n",
       "      <th></th>\n",
       "      <th>Rank</th>\n",
       "      <th>Title</th>\n",
       "      <th>Genre</th>\n",
       "      <th>Description</th>\n",
       "      <th>Director</th>\n",
       "      <th>Actors</th>\n",
       "      <th>Year</th>\n",
       "      <th>Runtime (Minutes)</th>\n",
       "      <th>Rating</th>\n",
       "      <th>Votes</th>\n",
       "      <th>Revenue (Millions)</th>\n",
       "      <th>Metascore</th>\n",
       "    </tr>\n",
       "  </thead>\n",
       "  <tbody>\n",
       "    <tr>\n",
       "      <th>0</th>\n",
       "      <td>1</td>\n",
       "      <td>Guardians of the Galaxy</td>\n",
       "      <td>Action,Adventure,Sci-Fi</td>\n",
       "      <td>A group of intergalactic criminals are forced ...</td>\n",
       "      <td>James Gunn</td>\n",
       "      <td>Chris Pratt, Vin Diesel, Bradley Cooper, Zoe S...</td>\n",
       "      <td>2014</td>\n",
       "      <td>121</td>\n",
       "      <td>8.1</td>\n",
       "      <td>757074</td>\n",
       "      <td>333.13</td>\n",
       "      <td>76.0</td>\n",
       "    </tr>\n",
       "    <tr>\n",
       "      <th>1</th>\n",
       "      <td>2</td>\n",
       "      <td>Prometheus</td>\n",
       "      <td>Adventure,Mystery,Sci-Fi</td>\n",
       "      <td>Following clues to the origin of mankind, a te...</td>\n",
       "      <td>Ridley Scott</td>\n",
       "      <td>Noomi Rapace, Logan Marshall-Green, Michael Fa...</td>\n",
       "      <td>2012</td>\n",
       "      <td>124</td>\n",
       "      <td>7.0</td>\n",
       "      <td>485820</td>\n",
       "      <td>126.46</td>\n",
       "      <td>65.0</td>\n",
       "    </tr>\n",
       "    <tr>\n",
       "      <th>2</th>\n",
       "      <td>3</td>\n",
       "      <td>Split</td>\n",
       "      <td>Horror,Thriller</td>\n",
       "      <td>Three girls are kidnapped by a man with a diag...</td>\n",
       "      <td>M. Night Shyamalan</td>\n",
       "      <td>James McAvoy, Anya Taylor-Joy, Haley Lu Richar...</td>\n",
       "      <td>2016</td>\n",
       "      <td>117</td>\n",
       "      <td>7.3</td>\n",
       "      <td>157606</td>\n",
       "      <td>138.12</td>\n",
       "      <td>62.0</td>\n",
       "    </tr>\n",
       "    <tr>\n",
       "      <th>3</th>\n",
       "      <td>4</td>\n",
       "      <td>Sing</td>\n",
       "      <td>Animation,Comedy,Family</td>\n",
       "      <td>In a city of humanoid animals, a hustling thea...</td>\n",
       "      <td>Christophe Lourdelet</td>\n",
       "      <td>Matthew McConaughey,Reese Witherspoon, Seth Ma...</td>\n",
       "      <td>2016</td>\n",
       "      <td>108</td>\n",
       "      <td>7.2</td>\n",
       "      <td>60545</td>\n",
       "      <td>270.32</td>\n",
       "      <td>59.0</td>\n",
       "    </tr>\n",
       "    <tr>\n",
       "      <th>4</th>\n",
       "      <td>5</td>\n",
       "      <td>Suicide Squad</td>\n",
       "      <td>Action,Adventure,Fantasy</td>\n",
       "      <td>A secret government agency recruits some of th...</td>\n",
       "      <td>David Ayer</td>\n",
       "      <td>Will Smith, Jared Leto, Margot Robbie, Viola D...</td>\n",
       "      <td>2016</td>\n",
       "      <td>123</td>\n",
       "      <td>6.2</td>\n",
       "      <td>393727</td>\n",
       "      <td>325.02</td>\n",
       "      <td>40.0</td>\n",
       "    </tr>\n",
       "  </tbody>\n",
       "</table>\n",
       "</div>"
      ],
      "text/plain": [
       "   Rank                    Title                     Genre  \\\n",
       "0     1  Guardians of the Galaxy   Action,Adventure,Sci-Fi   \n",
       "1     2               Prometheus  Adventure,Mystery,Sci-Fi   \n",
       "2     3                    Split           Horror,Thriller   \n",
       "3     4                     Sing   Animation,Comedy,Family   \n",
       "4     5            Suicide Squad  Action,Adventure,Fantasy   \n",
       "\n",
       "                                         Description              Director  \\\n",
       "0  A group of intergalactic criminals are forced ...            James Gunn   \n",
       "1  Following clues to the origin of mankind, a te...          Ridley Scott   \n",
       "2  Three girls are kidnapped by a man with a diag...    M. Night Shyamalan   \n",
       "3  In a city of humanoid animals, a hustling thea...  Christophe Lourdelet   \n",
       "4  A secret government agency recruits some of th...            David Ayer   \n",
       "\n",
       "                                              Actors  Year  Runtime (Minutes)  \\\n",
       "0  Chris Pratt, Vin Diesel, Bradley Cooper, Zoe S...  2014                121   \n",
       "1  Noomi Rapace, Logan Marshall-Green, Michael Fa...  2012                124   \n",
       "2  James McAvoy, Anya Taylor-Joy, Haley Lu Richar...  2016                117   \n",
       "3  Matthew McConaughey,Reese Witherspoon, Seth Ma...  2016                108   \n",
       "4  Will Smith, Jared Leto, Margot Robbie, Viola D...  2016                123   \n",
       "\n",
       "   Rating   Votes  Revenue (Millions)  Metascore  \n",
       "0     8.1  757074              333.13       76.0  \n",
       "1     7.0  485820              126.46       65.0  \n",
       "2     7.3  157606              138.12       62.0  \n",
       "3     7.2   60545              270.32       59.0  \n",
       "4     6.2  393727              325.02       40.0  "
      ]
     },
     "execution_count": 3,
     "metadata": {},
     "output_type": "execute_result"
    }
   ],
   "source": [
    "#Read in the IMDB csv data\n",
    "df = pd.read_csv('IMDB-Movie-Data.csv')\n",
    "df.head()"
   ]
  },
  {
   "cell_type": "markdown",
   "metadata": {},
   "source": [
    "# Basic Data Exploration"
   ]
  },
  {
   "cell_type": "code",
   "execution_count": 15,
   "metadata": {},
   "outputs": [
    {
     "name": "stdout",
     "output_type": "stream",
     "text": [
      "Different Data Types\n"
     ]
    },
    {
     "data": {
      "text/plain": [
       "Rank                    int64\n",
       "Title                  object\n",
       "Genre                  object\n",
       "Description            object\n",
       "Director               object\n",
       "Actors                 object\n",
       "Year                    int64\n",
       "Runtime (Minutes)       int64\n",
       "Rating                float64\n",
       "Votes                   int64\n",
       "Revenue (Millions)    float64\n",
       "Metascore             float64\n",
       "dtype: object"
      ]
     },
     "execution_count": 15,
     "metadata": {},
     "output_type": "execute_result"
    }
   ],
   "source": [
    "#What are the different data types contained? \n",
    "\n",
    "print('Different Data Types')\n",
    "df.dtypes"
   ]
  },
  {
   "cell_type": "code",
   "execution_count": 14,
   "metadata": {},
   "outputs": [
    {
     "name": "stdout",
     "output_type": "stream",
     "text": [
      "Missing Values in Columns\n"
     ]
    },
    {
     "data": {
      "text/plain": [
       "Rank                    0\n",
       "Title                   0\n",
       "Genre                   0\n",
       "Description             0\n",
       "Director                0\n",
       "Actors                  0\n",
       "Year                    0\n",
       "Runtime (Minutes)       0\n",
       "Rating                  0\n",
       "Votes                   0\n",
       "Revenue (Millions)    128\n",
       "Metascore              64\n",
       "dtype: int64"
      ]
     },
     "execution_count": 14,
     "metadata": {},
     "output_type": "execute_result"
    }
   ],
   "source": [
    "#Are there any missing values and how many? \n",
    "\n",
    "print('Missing Values in Columns')\n",
    "df.isnull().sum()"
   ]
  },
  {
   "cell_type": "code",
   "execution_count": 16,
   "metadata": {},
   "outputs": [
    {
     "name": "stdout",
     "output_type": "stream",
     "text": [
      "Dataset Shape\n"
     ]
    },
    {
     "data": {
      "text/plain": [
       "(1000, 12)"
      ]
     },
     "execution_count": 16,
     "metadata": {},
     "output_type": "execute_result"
    }
   ],
   "source": [
    "#how many rows and columns in the data?\n",
    "\n",
    "print('Dataset Shape')\n",
    "df.shape"
   ]
  },
  {
   "cell_type": "code",
   "execution_count": 17,
   "metadata": {},
   "outputs": [
    {
     "name": "stdout",
     "output_type": "stream",
     "text": [
      "Average Runtime in Minutes\n"
     ]
    },
    {
     "data": {
      "text/plain": [
       "113.172"
      ]
     },
     "execution_count": 17,
     "metadata": {},
     "output_type": "execute_result"
    }
   ],
   "source": [
    "#what is the average Runtime in Minutes? \n",
    "\n",
    "print('Average Runtime in Minutes')\n",
    "df['Runtime (Minutes)'].mean()"
   ]
  },
  {
   "cell_type": "code",
   "execution_count": 18,
   "metadata": {},
   "outputs": [
    {
     "name": "stdout",
     "output_type": "stream",
     "text": [
      "Average Revenue (Millions)\n"
     ]
    },
    {
     "data": {
      "text/plain": [
       "82.95637614678897"
      ]
     },
     "execution_count": 18,
     "metadata": {},
     "output_type": "execute_result"
    }
   ],
   "source": [
    "#What is the average Revenue? \n",
    "\n",
    "print('Average Revenue (Millions)')\n",
    "df['Revenue (Millions)'].mean()"
   ]
  },
  {
   "cell_type": "code",
   "execution_count": 31,
   "metadata": {},
   "outputs": [
    {
     "name": "stdout",
     "output_type": "stream",
     "text": [
      "Films Released In A Year\n"
     ]
    },
    {
     "data": {
      "text/plain": [
       "2016    297\n",
       "2015    127\n",
       "2014     98\n",
       "2013     91\n",
       "2012     64\n",
       "2011     63\n",
       "2010     60\n",
       "2007     53\n",
       "2008     52\n",
       "2009     51\n",
       "2006     44\n",
       "Name: Year, dtype: int64"
      ]
     },
     "execution_count": 31,
     "metadata": {},
     "output_type": "execute_result"
    }
   ],
   "source": [
    "#How many films were released in each year? \n",
    "\n",
    "print('Films Released In A Year')\n",
    "df.Year.value_counts()"
   ]
  },
  {
   "cell_type": "code",
   "execution_count": 19,
   "metadata": {},
   "outputs": [
    {
     "data": {
      "image/png": "[encoded data removed]",
      "text/plain": [
       "<Figure size 432x288 with 1 Axes>"
      ]
     },
     "metadata": {
      "needs_background": "light"
     },
     "output_type": "display_data"
    }
   ],
   "source": [
    "#what does Revenue and Runtime look like? Is there a runtime that always brings in larger Revenue dollars? \n",
    "#Is there such a thing as too long of a film that will have a negative impact on Revenue?\n",
    "\n",
    "df.plot('Runtime (Minutes)', 'Revenue (Millions)', kind='scatter', title ='Revenue by Runtime');"
   ]
  },
  {
   "cell_type": "code",
   "execution_count": 20,
   "metadata": {},
   "outputs": [
    {
     "data": {
      "image/png": "[encoded data removed]",
      "text/plain": [
       "<Figure size 432x288 with 1 Axes>"
      ]
     },
     "metadata": {
      "needs_background": "light"
     },
     "output_type": "display_data"
    }
   ],
   "source": [
    "#How does Rating and Revenue relate to one another? Is there a low rated film that has a high Revenue?\n",
    "#Does not appear to be the case even with the two outliers.\n",
    "#Remember this is 1000 popular movies from IMDB\n",
    "\n",
    "df.plot('Rating', 'Revenue (Millions)', kind='scatter', title='Revenue by Rating');"
   ]
  },
  {
   "cell_type": "code",
   "execution_count": 26,
   "metadata": {},
   "outputs": [
    {
     "data": {
      "image/png": "[encoded data removed]",
      "text/plain": [
       "<Figure size 432x288 with 1 Axes>"
      ]
     },
     "metadata": {
      "needs_background": "light"
     },
     "output_type": "display_data"
    }
   ],
   "source": [
    "#What is the distribution of the variable Rating? \n",
    "\n",
    "_ = sns.distplot(df.Rating).set_title('Distribution of Rating Scores')"
   ]
  },
  {
   "cell_type": "code",
   "execution_count": 30,
   "metadata": {},
   "outputs": [
    {
     "data": {
      "image/png": "[encoded data removed]",
      "text/plain": [
       "<Figure size 432x288 with 1 Axes>"
      ]
     },
     "metadata": {
      "needs_background": "light"
     },
     "output_type": "display_data"
    }
   ],
   "source": [
    "#What is the distribuiton of the variable Metascore? \n",
    "\n",
    "_ = sns.distplot(df.Metascore.dropna(axis=0, how='any',)).set_title('Distribution of Metascore')"
   ]
  },
  {
   "cell_type": "code",
   "execution_count": 28,
   "metadata": {},
   "outputs": [
    {
     "data": {
      "image/png": "[encoded data removed]",
      "text/plain": [
       "<Figure size 432x288 with 1 Axes>"
      ]
     },
     "metadata": {
      "needs_background": "light"
     },
     "output_type": "display_data"
    }
   ],
   "source": [
    "#How does Metascore and Revenue relate to one another? \n",
    "#Remember this is 1000 popular movies from IMDB\n",
    "\n",
    "fig, ax = plt.subplots()\n",
    "_ = sns.scatterplot(x='Metascore',y='Revenue (Millions)',data=df,ax=ax).set_title('Metascore vs Revenue')"
   ]
  },
  {
   "cell_type": "code",
   "execution_count": 56,
   "metadata": {},
   "outputs": [
    {
     "data": {
      "image/png": "[encoded data removed]",
      "text/plain": [
       "<Figure size 432x288 with 1 Axes>"
      ]
     },
     "metadata": {
      "needs_background": "light"
     },
     "output_type": "display_data"
    }
   ],
   "source": [
    "#How does Metascore and Rank compare?\n",
    "\n",
    "fig, ax = plt.subplots()\n",
    "_ = sns.scatterplot(x='Metascore',y='Rank',data=df,ax=ax).set_title('Metascore vs Revenue')"
   ]
  },
  {
   "cell_type": "code",
   "execution_count": 24,
   "metadata": {},
   "outputs": [
    {
     "data": {
      "text/html": [
       "<div>\n",
       "<style scoped>\n",
       "    .dataframe tbody tr th:only-of-type {\n",
       "        vertical-align: middle;\n",
       "    }\n",
       "\n",
       "    .dataframe tbody tr th {\n",
       "        vertical-align: top;\n",
       "    }\n",
       "\n",
       "    .dataframe thead th {\n",
       "        text-align: right;\n",
       "    }\n",
       "</style>\n",
       "<table border=\"1\" class=\"dataframe\">\n",
       "  <thead>\n",
       "    <tr style=\"text-align: right;\">\n",
       "      <th></th>\n",
       "      <th>Rank</th>\n",
       "      <th>Year</th>\n",
       "      <th>Runtime (Minutes)</th>\n",
       "      <th>Rating</th>\n",
       "      <th>Votes</th>\n",
       "      <th>Revenue (Millions)</th>\n",
       "      <th>Metascore</th>\n",
       "    </tr>\n",
       "  </thead>\n",
       "  <tbody>\n",
       "    <tr>\n",
       "      <th>count</th>\n",
       "      <td>1000.000000</td>\n",
       "      <td>1000.000000</td>\n",
       "      <td>1000.000000</td>\n",
       "      <td>1000.000000</td>\n",
       "      <td>1.000000e+03</td>\n",
       "      <td>872.000000</td>\n",
       "      <td>936.000000</td>\n",
       "    </tr>\n",
       "    <tr>\n",
       "      <th>mean</th>\n",
       "      <td>500.500000</td>\n",
       "      <td>2012.783000</td>\n",
       "      <td>113.172000</td>\n",
       "      <td>6.723200</td>\n",
       "      <td>1.698083e+05</td>\n",
       "      <td>82.956376</td>\n",
       "      <td>58.985043</td>\n",
       "    </tr>\n",
       "    <tr>\n",
       "      <th>std</th>\n",
       "      <td>288.819436</td>\n",
       "      <td>3.205962</td>\n",
       "      <td>18.810908</td>\n",
       "      <td>0.945429</td>\n",
       "      <td>1.887626e+05</td>\n",
       "      <td>103.253540</td>\n",
       "      <td>17.194757</td>\n",
       "    </tr>\n",
       "    <tr>\n",
       "      <th>min</th>\n",
       "      <td>1.000000</td>\n",
       "      <td>2006.000000</td>\n",
       "      <td>66.000000</td>\n",
       "      <td>1.900000</td>\n",
       "      <td>6.100000e+01</td>\n",
       "      <td>0.000000</td>\n",
       "      <td>11.000000</td>\n",
       "    </tr>\n",
       "    <tr>\n",
       "      <th>25%</th>\n",
       "      <td>250.750000</td>\n",
       "      <td>2010.000000</td>\n",
       "      <td>100.000000</td>\n",
       "      <td>6.200000</td>\n",
       "      <td>3.630900e+04</td>\n",
       "      <td>13.270000</td>\n",
       "      <td>47.000000</td>\n",
       "    </tr>\n",
       "    <tr>\n",
       "      <th>50%</th>\n",
       "      <td>500.500000</td>\n",
       "      <td>2014.000000</td>\n",
       "      <td>111.000000</td>\n",
       "      <td>6.800000</td>\n",
       "      <td>1.107990e+05</td>\n",
       "      <td>47.985000</td>\n",
       "      <td>59.500000</td>\n",
       "    </tr>\n",
       "    <tr>\n",
       "      <th>75%</th>\n",
       "      <td>750.250000</td>\n",
       "      <td>2016.000000</td>\n",
       "      <td>123.000000</td>\n",
       "      <td>7.400000</td>\n",
       "      <td>2.399098e+05</td>\n",
       "      <td>113.715000</td>\n",
       "      <td>72.000000</td>\n",
       "    </tr>\n",
       "    <tr>\n",
       "      <th>max</th>\n",
       "      <td>1000.000000</td>\n",
       "      <td>2016.000000</td>\n",
       "      <td>191.000000</td>\n",
       "      <td>9.000000</td>\n",
       "      <td>1.791916e+06</td>\n",
       "      <td>936.630000</td>\n",
       "      <td>100.000000</td>\n",
       "    </tr>\n",
       "  </tbody>\n",
       "</table>\n",
       "</div>"
      ],
      "text/plain": [
       "              Rank         Year  Runtime (Minutes)       Rating         Votes  \\\n",
       "count  1000.000000  1000.000000        1000.000000  1000.000000  1.000000e+03   \n",
       "mean    500.500000  2012.783000         113.172000     6.723200  1.698083e+05   \n",
       "std     288.819436     3.205962          18.810908     0.945429  1.887626e+05   \n",
       "min       1.000000  2006.000000          66.000000     1.900000  6.100000e+01   \n",
       "25%     250.750000  2010.000000         100.000000     6.200000  3.630900e+04   \n",
       "50%     500.500000  2014.000000         111.000000     6.800000  1.107990e+05   \n",
       "75%     750.250000  2016.000000         123.000000     7.400000  2.399098e+05   \n",
       "max    1000.000000  2016.000000         191.000000     9.000000  1.791916e+06   \n",
       "\n",
       "       Revenue (Millions)   Metascore  \n",
       "count          872.000000  936.000000  \n",
       "mean            82.956376   58.985043  \n",
       "std            103.253540   17.194757  \n",
       "min              0.000000   11.000000  \n",
       "25%             13.270000   47.000000  \n",
       "50%             47.985000   59.500000  \n",
       "75%            113.715000   72.000000  \n",
       "max            936.630000  100.000000  "
      ]
     },
     "execution_count": 24,
     "metadata": {},
     "output_type": "execute_result"
    }
   ],
   "source": [
    "#What can we learn from Count, Mean, Standard Deviation, Min and Max, using the describe function.\n",
    "#Not all of these fields are helpful as but we can get an idea of the average Runtime, Rating and Revenue.\n",
    "\n",
    "desc_cols = ['Rank','Year','Runtime (Minutes)','Rating','Votes','Revenue (Millions)','Metascore']\n",
    "df[desc_cols].describe()"
   ]
  },
  {
   "cell_type": "code",
   "execution_count": 25,
   "metadata": {},
   "outputs": [
    {
     "data": {
      "image/png": "[encoded data removed]",
      "text/plain": [
       "<Figure size 504x504 with 2 Axes>"
      ]
     },
     "metadata": {
      "needs_background": "light"
     },
     "output_type": "display_data"
    }
   ],
   "source": [
    "#How does variable relate to the other using a heat map? \n",
    "\n",
    "fig, ax = plt.subplots(figsize=(7,7))\n",
    "_ = sns.heatmap(df[desc_cols].corr(),annot=True,cmap=sns.color_palette(\"Blues\"),ax=ax).set_title('Correlation among numeric variables')"
   ]
  },
  {
   "cell_type": "code",
   "execution_count": 32,
   "metadata": {},
   "outputs": [
    {
     "data": {
      "image/png": "[encoded data removed]",
      "text/plain": [
       "<Figure size 864x864 with 1 Axes>"
      ]
     },
     "metadata": {
      "needs_background": "light"
     },
     "output_type": "display_data"
    }
   ],
   "source": [
    "#What is the Correlation Between Revenue and other Variables (Excluding Genre)? \n",
    "\n",
    "fig, ax = plt.subplots(figsize=(12,12))\n",
    "correlations = df[desc_cols].corr()['Revenue (Millions)'][:]\n",
    "correlations = pd.DataFrame(correlations.reset_index().rename(columns={'index':'Column','Revenue (Millions)':'Correlation'}))\n",
    "correlations = correlations[correlations.Column != 'Revenue (Millions)'].sort_values('Correlation',ascending=False)\n",
    "sns.barplot(x='Column',y='Correlation',data=correlations).set_title('Correlation between Revenue and non-genre data points')\n",
    "_ = plt.xticks(rotation = 90)"
   ]
  },
  {
   "cell_type": "markdown",
   "metadata": {},
   "source": [
    "# Film Genre Exploration"
   ]
  },
  {
   "cell_type": "code",
   "execution_count": 34,
   "metadata": {},
   "outputs": [
    {
     "name": "stdout",
     "output_type": "stream",
     "text": [
      "Unique Genres Counts\n"
     ]
    },
    {
     "data": {
      "text/plain": [
       "Action,Adventure,Sci-Fi       50\n",
       "Drama                         48\n",
       "Comedy,Drama,Romance          35\n",
       "Comedy                        32\n",
       "Drama,Romance                 31\n",
       "Action,Adventure,Fantasy      27\n",
       "Animation,Adventure,Comedy    27\n",
       "Comedy,Drama                  27\n",
       "Comedy,Romance                26\n",
       "Crime,Drama,Thriller          24\n",
       "Name: Genre, dtype: int64"
      ]
     },
     "execution_count": 34,
     "metadata": {},
     "output_type": "execute_result"
    }
   ],
   "source": [
    "#This is counting genres and unique combinations when a film has more than one genre listed.\n",
    "\n",
    "print('Unique Genres Counts')\n",
    "df.Genre.value_counts().head(10)"
   ]
  },
  {
   "cell_type": "code",
   "execution_count": 21,
   "metadata": {},
   "outputs": [
    {
     "name": "stdout",
     "output_type": "stream",
     "text": [
      "Unique Genres\n"
     ]
    },
    {
     "data": {
      "text/plain": [
       "207"
      ]
     },
     "execution_count": 21,
     "metadata": {},
     "output_type": "execute_result"
    }
   ],
   "source": [
    "#How many unique genres are there?\n",
    "\n",
    "print('Unique Genres')\n",
    "df.Genre.nunique()"
   ]
  },
  {
   "cell_type": "code",
   "execution_count": 33,
   "metadata": {},
   "outputs": [
    {
     "name": "stdout",
     "output_type": "stream",
     "text": [
      "Number of rows in data set: 1000\n",
      "Number of unique Titles in data set: 999\n",
      "   Duplicates are: ['The Host']\n",
      "\n",
      "Moves from 2006 to 2016 are included\n",
      "The mean Rating is 6.72 and the mean Metascore is 58.99\n",
      "The mean Runtime is 113 minutes and the mean Revenue is $82.96 million\n",
      "\n",
      "The Genres represented are: \n",
      "['Action', 'Adventure', 'Animation', 'Biography', 'Comedy', 'Crime', 'Drama', 'Family', 'Fantasy', 'History', 'Horror', 'Music', 'Musical', 'Mystery', 'Romance', 'Sci-Fi', 'Sport', 'Thriller', 'War', 'Western']\n",
      "\n"
     ]
    },
    {
     "data": {
      "text/html": [
       "<div>\n",
       "<style scoped>\n",
       "    .dataframe tbody tr th:only-of-type {\n",
       "        vertical-align: middle;\n",
       "    }\n",
       "\n",
       "    .dataframe tbody tr th {\n",
       "        vertical-align: top;\n",
       "    }\n",
       "\n",
       "    .dataframe thead th {\n",
       "        text-align: right;\n",
       "    }\n",
       "</style>\n",
       "<table border=\"1\" class=\"dataframe\">\n",
       "  <thead>\n",
       "    <tr style=\"text-align: right;\">\n",
       "      <th></th>\n",
       "      <th>Rank</th>\n",
       "      <th>Title</th>\n",
       "      <th>Genre</th>\n",
       "      <th>Description</th>\n",
       "      <th>Director</th>\n",
       "      <th>Actors</th>\n",
       "      <th>Year</th>\n",
       "      <th>Runtime (Minutes)</th>\n",
       "      <th>Rating</th>\n",
       "      <th>Votes</th>\n",
       "      <th>...</th>\n",
       "      <th>Horror</th>\n",
       "      <th>Music</th>\n",
       "      <th>Musical</th>\n",
       "      <th>Mystery</th>\n",
       "      <th>Romance</th>\n",
       "      <th>Sci-Fi</th>\n",
       "      <th>Sport</th>\n",
       "      <th>Thriller</th>\n",
       "      <th>War</th>\n",
       "      <th>Western</th>\n",
       "    </tr>\n",
       "  </thead>\n",
       "  <tbody>\n",
       "    <tr>\n",
       "      <th>0</th>\n",
       "      <td>1</td>\n",
       "      <td>Guardians of the Galaxy</td>\n",
       "      <td>Action,Adventure,Sci-Fi</td>\n",
       "      <td>A group of intergalactic criminals are forced ...</td>\n",
       "      <td>James Gunn</td>\n",
       "      <td>Chris Pratt, Vin Diesel, Bradley Cooper, Zoe S...</td>\n",
       "      <td>2014</td>\n",
       "      <td>121</td>\n",
       "      <td>8.1</td>\n",
       "      <td>757074</td>\n",
       "      <td>...</td>\n",
       "      <td>0</td>\n",
       "      <td>0</td>\n",
       "      <td>0</td>\n",
       "      <td>0</td>\n",
       "      <td>0</td>\n",
       "      <td>1</td>\n",
       "      <td>0</td>\n",
       "      <td>0</td>\n",
       "      <td>0</td>\n",
       "      <td>0</td>\n",
       "    </tr>\n",
       "    <tr>\n",
       "      <th>1</th>\n",
       "      <td>2</td>\n",
       "      <td>Prometheus</td>\n",
       "      <td>Adventure,Mystery,Sci-Fi</td>\n",
       "      <td>Following clues to the origin of mankind, a te...</td>\n",
       "      <td>Ridley Scott</td>\n",
       "      <td>Noomi Rapace, Logan Marshall-Green, Michael Fa...</td>\n",
       "      <td>2012</td>\n",
       "      <td>124</td>\n",
       "      <td>7.0</td>\n",
       "      <td>485820</td>\n",
       "      <td>...</td>\n",
       "      <td>0</td>\n",
       "      <td>0</td>\n",
       "      <td>0</td>\n",
       "      <td>1</td>\n",
       "      <td>0</td>\n",
       "      <td>1</td>\n",
       "      <td>0</td>\n",
       "      <td>0</td>\n",
       "      <td>0</td>\n",
       "      <td>0</td>\n",
       "    </tr>\n",
       "    <tr>\n",
       "      <th>2</th>\n",
       "      <td>3</td>\n",
       "      <td>Split</td>\n",
       "      <td>Horror,Thriller</td>\n",
       "      <td>Three girls are kidnapped by a man with a diag...</td>\n",
       "      <td>M. Night Shyamalan</td>\n",
       "      <td>James McAvoy, Anya Taylor-Joy, Haley Lu Richar...</td>\n",
       "      <td>2016</td>\n",
       "      <td>117</td>\n",
       "      <td>7.3</td>\n",
       "      <td>157606</td>\n",
       "      <td>...</td>\n",
       "      <td>1</td>\n",
       "      <td>0</td>\n",
       "      <td>0</td>\n",
       "      <td>0</td>\n",
       "      <td>0</td>\n",
       "      <td>0</td>\n",
       "      <td>0</td>\n",
       "      <td>1</td>\n",
       "      <td>0</td>\n",
       "      <td>0</td>\n",
       "    </tr>\n",
       "    <tr>\n",
       "      <th>3</th>\n",
       "      <td>4</td>\n",
       "      <td>Sing</td>\n",
       "      <td>Animation,Comedy,Family</td>\n",
       "      <td>In a city of humanoid animals, a hustling thea...</td>\n",
       "      <td>Christophe Lourdelet</td>\n",
       "      <td>Matthew McConaughey,Reese Witherspoon, Seth Ma...</td>\n",
       "      <td>2016</td>\n",
       "      <td>108</td>\n",
       "      <td>7.2</td>\n",
       "      <td>60545</td>\n",
       "      <td>...</td>\n",
       "      <td>0</td>\n",
       "      <td>0</td>\n",
       "      <td>0</td>\n",
       "      <td>0</td>\n",
       "      <td>0</td>\n",
       "      <td>0</td>\n",
       "      <td>0</td>\n",
       "      <td>0</td>\n",
       "      <td>0</td>\n",
       "      <td>0</td>\n",
       "    </tr>\n",
       "    <tr>\n",
       "      <th>4</th>\n",
       "      <td>5</td>\n",
       "      <td>Suicide Squad</td>\n",
       "      <td>Action,Adventure,Fantasy</td>\n",
       "      <td>A secret government agency recruits some of th...</td>\n",
       "      <td>David Ayer</td>\n",
       "      <td>Will Smith, Jared Leto, Margot Robbie, Viola D...</td>\n",
       "      <td>2016</td>\n",
       "      <td>123</td>\n",
       "      <td>6.2</td>\n",
       "      <td>393727</td>\n",
       "      <td>...</td>\n",
       "      <td>0</td>\n",
       "      <td>0</td>\n",
       "      <td>0</td>\n",
       "      <td>0</td>\n",
       "      <td>0</td>\n",
       "      <td>0</td>\n",
       "      <td>0</td>\n",
       "      <td>0</td>\n",
       "      <td>0</td>\n",
       "      <td>0</td>\n",
       "    </tr>\n",
       "  </tbody>\n",
       "</table>\n",
       "<p>5 rows × 32 columns</p>\n",
       "</div>"
      ],
      "text/plain": [
       "   Rank                    Title                     Genre  \\\n",
       "0     1  Guardians of the Galaxy   Action,Adventure,Sci-Fi   \n",
       "1     2               Prometheus  Adventure,Mystery,Sci-Fi   \n",
       "2     3                    Split           Horror,Thriller   \n",
       "3     4                     Sing   Animation,Comedy,Family   \n",
       "4     5            Suicide Squad  Action,Adventure,Fantasy   \n",
       "\n",
       "                                         Description              Director  \\\n",
       "0  A group of intergalactic criminals are forced ...            James Gunn   \n",
       "1  Following clues to the origin of mankind, a te...          Ridley Scott   \n",
       "2  Three girls are kidnapped by a man with a diag...    M. Night Shyamalan   \n",
       "3  In a city of humanoid animals, a hustling thea...  Christophe Lourdelet   \n",
       "4  A secret government agency recruits some of th...            David Ayer   \n",
       "\n",
       "                                              Actors  Year  Runtime (Minutes)  \\\n",
       "0  Chris Pratt, Vin Diesel, Bradley Cooper, Zoe S...  2014                121   \n",
       "1  Noomi Rapace, Logan Marshall-Green, Michael Fa...  2012                124   \n",
       "2  James McAvoy, Anya Taylor-Joy, Haley Lu Richar...  2016                117   \n",
       "3  Matthew McConaughey,Reese Witherspoon, Seth Ma...  2016                108   \n",
       "4  Will Smith, Jared Leto, Margot Robbie, Viola D...  2016                123   \n",
       "\n",
       "   Rating   Votes  ...  Horror  Music  Musical  Mystery  Romance  Sci-Fi  \\\n",
       "0     8.1  757074  ...       0      0        0        0        0       1   \n",
       "1     7.0  485820  ...       0      0        0        1        0       1   \n",
       "2     7.3  157606  ...       1      0        0        0        0       0   \n",
       "3     7.2   60545  ...       0      0        0        0        0       0   \n",
       "4     6.2  393727  ...       0      0        0        0        0       0   \n",
       "\n",
       "   Sport  Thriller  War  Western  \n",
       "0      0         0    0        0  \n",
       "1      0         0    0        0  \n",
       "2      0         1    0        0  \n",
       "3      0         0    0        0  \n",
       "4      0         0    0        0  \n",
       "\n",
       "[5 rows x 32 columns]"
      ]
     },
     "execution_count": 33,
     "metadata": {},
     "output_type": "execute_result"
    }
   ],
   "source": [
    "#Exploring Genre data, need to break out details and check our changes to the dataset are correct. \n",
    "\n",
    "df = pd.concat([df, df['Genre'].str.get_dummies(sep=',')],axis=1)\n",
    "\n",
    "print('Number of rows in data set: {}'.format(len(df)))\n",
    "print('Number of unique Titles in data set: {}'.format(len(df.Title.unique())))\n",
    "print('   Duplicates are: {}'.format(list(df[df.Title.duplicated()].Title)))\n",
    "print('\\nMoves from {} to {} are included'.format(df.Year.min(), df.Year.max()))\n",
    "print('The mean Rating is {:.2f} and the mean Metascore is {:.2f}'.format(df.Rating.mean(), df.Metascore.mean()))\n",
    "print('The mean Runtime is {:.0f} minutes and the mean Revenue is ${:.2f} million'.format(df['Runtime (Minutes)'].mean(), df['Revenue (Millions)'].mean()))\n",
    "\n",
    "genres = [item for row in df.Genre for item in row.split(',')]\n",
    "genres = sorted(set(genres))\n",
    "print('\\nThe Genres represented are: \\n{}'.format(genres))\n",
    "print()\n",
    "df.head()"
   ]
  },
  {
   "cell_type": "code",
   "execution_count": 35,
   "metadata": {},
   "outputs": [
    {
     "name": "stdout",
     "output_type": "stream",
     "text": [
      "Total Genre Count\n"
     ]
    },
    {
     "data": {
      "text/plain": [
       "Action       303\n",
       "Adventure    259\n",
       "Animation     49\n",
       "Biography     81\n",
       "Comedy       279\n",
       "Crime        150\n",
       "Drama        513\n",
       "Family        51\n",
       "Fantasy      101\n",
       "History       29\n",
       "Horror       119\n",
       "Music         16\n",
       "Musical        5\n",
       "Mystery      106\n",
       "Romance      141\n",
       "Sci-Fi       120\n",
       "Sport         18\n",
       "Thriller     195\n",
       "War           13\n",
       "Western        7\n",
       "dtype: int64"
      ]
     },
     "execution_count": 35,
     "metadata": {},
     "output_type": "execute_result"
    }
   ],
   "source": [
    "# how many dummy positives are there?\n",
    "\n",
    "print('Total Genre Count')\n",
    "df[genres].sum(axis=0)"
   ]
  },
  {
   "cell_type": "code",
   "execution_count": 37,
   "metadata": {},
   "outputs": [
    {
     "name": "stdout",
     "output_type": "stream",
     "text": [
      "Total Revenue (Millions) by Genre\n"
     ]
    },
    {
     "data": {
      "text/plain": [
       "Action       35605.42\n",
       "Adventure    38852.61\n",
       "Animation     8987.50\n",
       "Biography     4185.12\n",
       "Comedy       19316.45\n",
       "Crime         8034.62\n",
       "Drama        21931.45\n",
       "Family        6182.61\n",
       "Fantasy      12262.06\n",
       "History       1376.02\n",
       "Horror        3413.59\n",
       "Music          706.05\n",
       "Musical        408.21\n",
       "Mystery       4861.86\n",
       "Romance       5482.89\n",
       "Sci-Fi       14910.78\n",
       "Sport         1040.68\n",
       "Thriller     10645.32\n",
       "War            534.33\n",
       "Western        559.12\n",
       "dtype: float64"
      ]
     },
     "execution_count": 37,
     "metadata": {},
     "output_type": "execute_result"
    }
   ],
   "source": [
    "#What is the Revenue by Genre?\n",
    "\n",
    "check = df[genres + ['Revenue (Millions)']].copy()\n",
    "for x in genres:\n",
    "    check[x+'_revenue'] = check[x] * check['Revenue (Millions)']\n",
    "rev_columns = [x for x in check.columns if '_revenue' in x]\n",
    "check = check[rev_columns]\n",
    "check.columns = [x.split('_')[0] for x in check.columns]\n",
    "check = check.sum(axis=0)\n",
    "\n",
    "print('Total Revenue (Millions) by Genre')\n",
    "check"
   ]
  },
  {
   "cell_type": "code",
   "execution_count": 38,
   "metadata": {},
   "outputs": [
    {
     "data": {
      "image/png": "[encoded data removed]",
      "text/plain": [
       "<Figure size 432x288 with 1 Axes>"
      ]
     },
     "metadata": {
      "needs_background": "light"
     },
     "output_type": "display_data"
    }
   ],
   "source": [
    "#What does this look like on a plot? \n",
    "\n",
    "genre_revenue = pd.DataFrame(check.reset_index().rename(columns={'index':'Genre',0:'Total_Revenue'})).sort_values('Total_Revenue',ascending=False)\n",
    "sns.barplot(x = genre_revenue.Genre, y = genre_revenue.Total_Revenue).set_title('Genre By Total Revenue')\n",
    "_ = plt.xticks(rotation = 90)"
   ]
  },
  {
   "cell_type": "code",
   "execution_count": 39,
   "metadata": {},
   "outputs": [
    {
     "data": {
      "image/png": "[encoded data removed]",
      "text/plain": [
       "<Figure size 432x288 with 1 Axes>"
      ]
     },
     "metadata": {
      "needs_background": "light"
     },
     "output_type": "display_data"
    }
   ],
   "source": [
    "#How does this differ from Genre tags? \n",
    "\n",
    "genre_tag_counts = pd.DataFrame(df[genres].sum(axis=0)).reset_index().rename(columns={'index':'Genre',0:'Tag Count'}).sort_values('Tag Count',ascending=False)\n",
    "sns.barplot(x = genre_tag_counts.Genre, y = genre_tag_counts['Tag Count']).set_title('Genre By Tag Counts')\n",
    "_ = plt.xticks(rotation = 90)"
   ]
  },
  {
   "cell_type": "code",
   "execution_count": 40,
   "metadata": {},
   "outputs": [
    {
     "name": "stdout",
     "output_type": "stream",
     "text": [
      "Number of movies that ARE Action and NOT Adventure: 148\n",
      "Number of movies that are NOT Action and ARE Adventure: 104\n",
      "Number of movies that are BOTH Action and Adventure: 155\n"
     ]
    }
   ],
   "source": [
    "#Some Addititional Questions: \n",
    "\n",
    "print('Number of movies that ARE Action and NOT Adventure: {}'.format(sum((df.Action == 1) & (df.Adventure == 0))))\n",
    "print('Number of movies that are NOT Action and ARE Adventure: {}'.format(sum((df.Action == 0) & (df.Adventure == 1))))\n",
    "print('Number of movies that are BOTH Action and Adventure: {}'.format(sum((df.Action == 1) & (df.Adventure == 1))))"
   ]
  },
  {
   "cell_type": "code",
   "execution_count": 41,
   "metadata": {},
   "outputs": [
    {
     "data": {
      "image/png": "[encoded data removed]",
      "text/plain": [
       "<Figure size 864x864 with 1 Axes>"
      ]
     },
     "metadata": {
      "needs_background": "light"
     },
     "output_type": "display_data"
    }
   ],
   "source": [
    "#What is the correlation between Genre and Revenue? \n",
    "\n",
    "fig, ax = plt.subplots(figsize=(12,12))\n",
    "correlations = df[genres + ['Revenue (Millions)']].corr()['Revenue (Millions)'][:]\n",
    "correlations = pd.DataFrame(correlations.reset_index().rename(columns={'index':'Column','Revenue (Millions)':'Correlation'}))\n",
    "correlations = correlations[correlations.Column != 'Revenue (Millions)'].sort_values('Correlation',ascending=False)\n",
    "sns.barplot(x='Column',y='Correlation',data=correlations).set_title('Correlation between Revenue and Genre data points')\n",
    "_ = plt.xticks(rotation = 90)"
   ]
  },
  {
   "cell_type": "code",
   "execution_count": 42,
   "metadata": {},
   "outputs": [
    {
     "name": "stdout",
     "output_type": "stream",
     "text": [
      "           Mean Revenue (Millions)\n",
      "Horror                   36.705269\n",
      "Romance                  42.503023\n",
      "Music                    47.070000\n",
      "Drama                    49.844205\n",
      "History                  52.923846\n",
      "War                      53.433000\n",
      "Mystery                  54.627640\n",
      "Biography                55.801600\n",
      "Crime                    61.804769\n",
      "Sport                    65.042500\n",
      "Thriller                 69.577255\n",
      "Comedy                   75.750784\n",
      "Musical                  81.642000\n",
      "Western                 111.824000\n",
      "Action                  124.494476\n",
      "Family                  126.175714\n",
      "Fantasy                 131.850108\n",
      "Sci-Fi                  135.552545\n",
      "Adventure               154.177024\n",
      "Animation               191.223404\n"
     ]
    }
   ],
   "source": [
    "#What is the mean Revenue by Genre?\n",
    "\n",
    "columns = ['Mean Revenue (Millions)']\n",
    "\n",
    "df_rev_by_genre = pd.DataFrame(index=genres, columns=columns)\n",
    "df_rev_by_genre = df_rev_by_genre.fillna(0)\n",
    "\n",
    "for genre in genres:\n",
    "    means = (df[(df[genre]==1)])['Revenue (Millions)'].mean()\n",
    "    df_rev_by_genre.loc[genre, 'Mean Revenue (Millions)'] = means\n",
    "\n",
    "df_rev_by_genre = df_rev_by_genre.sort_values('Mean Revenue (Millions)')\n",
    "print(df_rev_by_genre)"
   ]
  },
  {
   "cell_type": "code",
   "execution_count": 43,
   "metadata": {},
   "outputs": [
    {
     "data": {
      "text/plain": [
       "Text(0.5, 1.0, 'Mean Revenue by Genre')"
      ]
     },
     "execution_count": 43,
     "metadata": {},
     "output_type": "execute_result"
    },
    {
     "data": {
      "image/png": "[encoded data removed]",
      "text/plain": [
       "<Figure size 432x288 with 1 Axes>"
      ]
     },
     "metadata": {
      "needs_background": "light"
     },
     "output_type": "display_data"
    }
   ],
   "source": [
    "#what does this look like as a plot? \n",
    "\n",
    "fig, ax = plt.subplots()\n",
    "_ = sns.barplot(x='Mean Revenue (Millions)',y='index', data=df_rev_by_genre.reset_index(),ax=ax)\n",
    "plt.ylabel('Genre')\n",
    "plt.xlabel('Mean Revenue (Millions)')\n",
    "plt.title('Mean Revenue by Genre')"
   ]
  },
  {
   "cell_type": "markdown",
   "metadata": {},
   "source": [
    "# Directors and Actors Exploration"
   ]
  },
  {
   "cell_type": "code",
   "execution_count": 44,
   "metadata": {},
   "outputs": [
    {
     "data": {
      "text/html": [
       "<div>\n",
       "<style scoped>\n",
       "    .dataframe tbody tr th:only-of-type {\n",
       "        vertical-align: middle;\n",
       "    }\n",
       "\n",
       "    .dataframe tbody tr th {\n",
       "        vertical-align: top;\n",
       "    }\n",
       "\n",
       "    .dataframe thead th {\n",
       "        text-align: right;\n",
       "    }\n",
       "</style>\n",
       "<table border=\"1\" class=\"dataframe\">\n",
       "  <thead>\n",
       "    <tr style=\"text-align: right;\">\n",
       "      <th></th>\n",
       "      <th>Mean_Revenue_M</th>\n",
       "      <th>Movie_Count</th>\n",
       "      <th>Mean_Rev_Per_Movie</th>\n",
       "    </tr>\n",
       "    <tr>\n",
       "      <th>Director</th>\n",
       "      <th></th>\n",
       "      <th></th>\n",
       "      <th></th>\n",
       "    </tr>\n",
       "  </thead>\n",
       "  <tbody>\n",
       "    <tr>\n",
       "      <th>Andy Goddard</th>\n",
       "      <td>0.000000</td>\n",
       "      <td>1</td>\n",
       "      <td>0.000000</td>\n",
       "    </tr>\n",
       "    <tr>\n",
       "      <th>Phillip Guzman</th>\n",
       "      <td>0.010000</td>\n",
       "      <td>1</td>\n",
       "      <td>0.010000</td>\n",
       "    </tr>\n",
       "    <tr>\n",
       "      <th>Robin Swicord</th>\n",
       "      <td>0.010000</td>\n",
       "      <td>1</td>\n",
       "      <td>0.010000</td>\n",
       "    </tr>\n",
       "    <tr>\n",
       "      <th>Patricia Rozema</th>\n",
       "      <td>0.010000</td>\n",
       "      <td>1</td>\n",
       "      <td>0.010000</td>\n",
       "    </tr>\n",
       "    <tr>\n",
       "      <th>So Yong Kim</th>\n",
       "      <td>0.010000</td>\n",
       "      <td>1</td>\n",
       "      <td>0.010000</td>\n",
       "    </tr>\n",
       "    <tr>\n",
       "      <th>Gus Van Sant</th>\n",
       "      <td>0.020000</td>\n",
       "      <td>1</td>\n",
       "      <td>0.020000</td>\n",
       "    </tr>\n",
       "    <tr>\n",
       "      <th>Jim Mickle</th>\n",
       "      <td>0.020000</td>\n",
       "      <td>1</td>\n",
       "      <td>0.020000</td>\n",
       "    </tr>\n",
       "    <tr>\n",
       "      <th>Oz Perkins</th>\n",
       "      <td>0.020000</td>\n",
       "      <td>1</td>\n",
       "      <td>0.020000</td>\n",
       "    </tr>\n",
       "    <tr>\n",
       "      <th>Jon Kasdan</th>\n",
       "      <td>0.020000</td>\n",
       "      <td>1</td>\n",
       "      <td>0.020000</td>\n",
       "    </tr>\n",
       "    <tr>\n",
       "      <th>Paco Cabezas</th>\n",
       "      <td>0.030000</td>\n",
       "      <td>1</td>\n",
       "      <td>0.030000</td>\n",
       "    </tr>\n",
       "    <tr>\n",
       "      <th>Julia Leigh</th>\n",
       "      <td>0.030000</td>\n",
       "      <td>1</td>\n",
       "      <td>0.030000</td>\n",
       "    </tr>\n",
       "    <tr>\n",
       "      <th>Justin Kelly</th>\n",
       "      <td>0.030000</td>\n",
       "      <td>1</td>\n",
       "      <td>0.030000</td>\n",
       "    </tr>\n",
       "    <tr>\n",
       "      <th>Drake Doremus</th>\n",
       "      <td>0.030000</td>\n",
       "      <td>1</td>\n",
       "      <td>0.030000</td>\n",
       "    </tr>\n",
       "    <tr>\n",
       "      <th>Jon S. Baird</th>\n",
       "      <td>0.030000</td>\n",
       "      <td>1</td>\n",
       "      <td>0.030000</td>\n",
       "    </tr>\n",
       "    <tr>\n",
       "      <th>Simon Stone</th>\n",
       "      <td>0.030000</td>\n",
       "      <td>1</td>\n",
       "      <td>0.030000</td>\n",
       "    </tr>\n",
       "    <tr>\n",
       "      <th>Roger Spottiswoode</th>\n",
       "      <td>0.040000</td>\n",
       "      <td>1</td>\n",
       "      <td>0.040000</td>\n",
       "    </tr>\n",
       "    <tr>\n",
       "      <th>James Watkins</th>\n",
       "      <td>0.040000</td>\n",
       "      <td>1</td>\n",
       "      <td>0.040000</td>\n",
       "    </tr>\n",
       "    <tr>\n",
       "      <th>David Ross</th>\n",
       "      <td>0.040000</td>\n",
       "      <td>1</td>\n",
       "      <td>0.040000</td>\n",
       "    </tr>\n",
       "    <tr>\n",
       "      <th>Chris Evans</th>\n",
       "      <td>0.040000</td>\n",
       "      <td>1</td>\n",
       "      <td>0.040000</td>\n",
       "    </tr>\n",
       "    <tr>\n",
       "      <th>François Simard</th>\n",
       "      <td>0.050000</td>\n",
       "      <td>1</td>\n",
       "      <td>0.050000</td>\n",
       "    </tr>\n",
       "    <tr>\n",
       "      <th>Alejandro Amenábar</th>\n",
       "      <td>0.050000</td>\n",
       "      <td>1</td>\n",
       "      <td>0.050000</td>\n",
       "    </tr>\n",
       "    <tr>\n",
       "      <th>Jon Watts</th>\n",
       "      <td>0.050000</td>\n",
       "      <td>1</td>\n",
       "      <td>0.050000</td>\n",
       "    </tr>\n",
       "    <tr>\n",
       "      <th>Biyi Bandele</th>\n",
       "      <td>0.050000</td>\n",
       "      <td>1</td>\n",
       "      <td>0.050000</td>\n",
       "    </tr>\n",
       "    <tr>\n",
       "      <th>David Schwimmer</th>\n",
       "      <td>0.060000</td>\n",
       "      <td>1</td>\n",
       "      <td>0.060000</td>\n",
       "    </tr>\n",
       "    <tr>\n",
       "      <th>James Ward Byrkit</th>\n",
       "      <td>0.070000</td>\n",
       "      <td>1</td>\n",
       "      <td>0.070000</td>\n",
       "    </tr>\n",
       "    <tr>\n",
       "      <th>Ryûhei Kitamura</th>\n",
       "      <td>0.070000</td>\n",
       "      <td>1</td>\n",
       "      <td>0.070000</td>\n",
       "    </tr>\n",
       "    <tr>\n",
       "      <th>Matteo Garrone</th>\n",
       "      <td>0.080000</td>\n",
       "      <td>1</td>\n",
       "      <td>0.080000</td>\n",
       "    </tr>\n",
       "    <tr>\n",
       "      <th>Steven R. Monroe</th>\n",
       "      <td>0.090000</td>\n",
       "      <td>1</td>\n",
       "      <td>0.090000</td>\n",
       "    </tr>\n",
       "    <tr>\n",
       "      <th>Giuseppe Tornatore</th>\n",
       "      <td>0.090000</td>\n",
       "      <td>1</td>\n",
       "      <td>0.090000</td>\n",
       "    </tr>\n",
       "    <tr>\n",
       "      <th>Philippe Falardeau</th>\n",
       "      <td>0.110000</td>\n",
       "      <td>1</td>\n",
       "      <td>0.110000</td>\n",
       "    </tr>\n",
       "    <tr>\n",
       "      <th>...</th>\n",
       "      <td>...</td>\n",
       "      <td>...</td>\n",
       "      <td>...</td>\n",
       "    </tr>\n",
       "    <tr>\n",
       "      <th>Don Hall</th>\n",
       "      <td>222.490000</td>\n",
       "      <td>1</td>\n",
       "      <td>222.490000</td>\n",
       "    </tr>\n",
       "    <tr>\n",
       "      <th>Shane Black</th>\n",
       "      <td>222.620000</td>\n",
       "      <td>2</td>\n",
       "      <td>111.310000</td>\n",
       "    </tr>\n",
       "    <tr>\n",
       "      <th>Michael Bay</th>\n",
       "      <td>236.886667</td>\n",
       "      <td>6</td>\n",
       "      <td>39.481111</td>\n",
       "    </tr>\n",
       "    <tr>\n",
       "      <th>Mark Andrews</th>\n",
       "      <td>237.280000</td>\n",
       "      <td>1</td>\n",
       "      <td>237.280000</td>\n",
       "    </tr>\n",
       "    <tr>\n",
       "      <th>Robert Stromberg</th>\n",
       "      <td>241.410000</td>\n",
       "      <td>1</td>\n",
       "      <td>241.410000</td>\n",
       "    </tr>\n",
       "    <tr>\n",
       "      <th>Jon Favreau</th>\n",
       "      <td>256.400000</td>\n",
       "      <td>4</td>\n",
       "      <td>64.100000</td>\n",
       "    </tr>\n",
       "    <tr>\n",
       "      <th>Andrew Stanton</th>\n",
       "      <td>261.053333</td>\n",
       "      <td>3</td>\n",
       "      <td>87.017778</td>\n",
       "    </tr>\n",
       "    <tr>\n",
       "      <th>Dan Scanlon</th>\n",
       "      <td>268.490000</td>\n",
       "      <td>1</td>\n",
       "      <td>268.490000</td>\n",
       "    </tr>\n",
       "    <tr>\n",
       "      <th>Christophe Lourdelet</th>\n",
       "      <td>270.320000</td>\n",
       "      <td>1</td>\n",
       "      <td>270.320000</td>\n",
       "    </tr>\n",
       "    <tr>\n",
       "      <th>David Yates</th>\n",
       "      <td>271.751667</td>\n",
       "      <td>6</td>\n",
       "      <td>45.291944</td>\n",
       "    </tr>\n",
       "    <tr>\n",
       "      <th>Sam Raimi</th>\n",
       "      <td>285.715000</td>\n",
       "      <td>2</td>\n",
       "      <td>142.857500</td>\n",
       "    </tr>\n",
       "    <tr>\n",
       "      <th>Bill Condon</th>\n",
       "      <td>286.790000</td>\n",
       "      <td>2</td>\n",
       "      <td>143.395000</td>\n",
       "    </tr>\n",
       "    <tr>\n",
       "      <th>David Slade</th>\n",
       "      <td>300.520000</td>\n",
       "      <td>1</td>\n",
       "      <td>300.520000</td>\n",
       "    </tr>\n",
       "    <tr>\n",
       "      <th>Christopher Nolan</th>\n",
       "      <td>303.018000</td>\n",
       "      <td>5</td>\n",
       "      <td>60.603600</td>\n",
       "    </tr>\n",
       "    <tr>\n",
       "      <th>Pierre Coffin</th>\n",
       "      <td>309.775000</td>\n",
       "      <td>2</td>\n",
       "      <td>154.887500</td>\n",
       "    </tr>\n",
       "    <tr>\n",
       "      <th>Pete Docter</th>\n",
       "      <td>324.715000</td>\n",
       "      <td>2</td>\n",
       "      <td>162.357500</td>\n",
       "    </tr>\n",
       "    <tr>\n",
       "      <th>Francis Lawrence</th>\n",
       "      <td>324.952500</td>\n",
       "      <td>4</td>\n",
       "      <td>81.238125</td>\n",
       "    </tr>\n",
       "    <tr>\n",
       "      <th>Anthony Russo</th>\n",
       "      <td>333.915000</td>\n",
       "      <td>2</td>\n",
       "      <td>166.957500</td>\n",
       "    </tr>\n",
       "    <tr>\n",
       "      <th>Kyle Balda</th>\n",
       "      <td>336.030000</td>\n",
       "      <td>1</td>\n",
       "      <td>336.030000</td>\n",
       "    </tr>\n",
       "    <tr>\n",
       "      <th>J.J. Abrams</th>\n",
       "      <td>336.690000</td>\n",
       "      <td>5</td>\n",
       "      <td>67.338000</td>\n",
       "    </tr>\n",
       "    <tr>\n",
       "      <th>Byron Howard</th>\n",
       "      <td>341.260000</td>\n",
       "      <td>1</td>\n",
       "      <td>341.260000</td>\n",
       "    </tr>\n",
       "    <tr>\n",
       "      <th>Tim Miller</th>\n",
       "      <td>363.020000</td>\n",
       "      <td>1</td>\n",
       "      <td>363.020000</td>\n",
       "    </tr>\n",
       "    <tr>\n",
       "      <th>Gareth Edwards</th>\n",
       "      <td>366.415000</td>\n",
       "      <td>2</td>\n",
       "      <td>183.207500</td>\n",
       "    </tr>\n",
       "    <tr>\n",
       "      <th>Chris Renaud</th>\n",
       "      <td>368.310000</td>\n",
       "      <td>1</td>\n",
       "      <td>368.310000</td>\n",
       "    </tr>\n",
       "    <tr>\n",
       "      <th>Chris Buck</th>\n",
       "      <td>400.740000</td>\n",
       "      <td>1</td>\n",
       "      <td>400.740000</td>\n",
       "    </tr>\n",
       "    <tr>\n",
       "      <th>Gary Ross</th>\n",
       "      <td>408.000000</td>\n",
       "      <td>1</td>\n",
       "      <td>408.000000</td>\n",
       "    </tr>\n",
       "    <tr>\n",
       "      <th>Lee Unkrich</th>\n",
       "      <td>414.980000</td>\n",
       "      <td>1</td>\n",
       "      <td>414.980000</td>\n",
       "    </tr>\n",
       "    <tr>\n",
       "      <th>Joss Whedon</th>\n",
       "      <td>541.135000</td>\n",
       "      <td>2</td>\n",
       "      <td>270.567500</td>\n",
       "    </tr>\n",
       "    <tr>\n",
       "      <th>Colin Trevorrow</th>\n",
       "      <td>652.180000</td>\n",
       "      <td>1</td>\n",
       "      <td>652.180000</td>\n",
       "    </tr>\n",
       "    <tr>\n",
       "      <th>James Cameron</th>\n",
       "      <td>760.510000</td>\n",
       "      <td>1</td>\n",
       "      <td>760.510000</td>\n",
       "    </tr>\n",
       "  </tbody>\n",
       "</table>\n",
       "<p>540 rows × 3 columns</p>\n",
       "</div>"
      ],
      "text/plain": [
       "                      Mean_Revenue_M  Movie_Count  Mean_Rev_Per_Movie\n",
       "Director                                                             \n",
       "Andy Goddard                0.000000            1            0.000000\n",
       "Phillip Guzman              0.010000            1            0.010000\n",
       "Robin Swicord               0.010000            1            0.010000\n",
       "Patricia Rozema             0.010000            1            0.010000\n",
       "So Yong Kim                 0.010000            1            0.010000\n",
       "Gus Van Sant                0.020000            1            0.020000\n",
       "Jim Mickle                  0.020000            1            0.020000\n",
       "Oz Perkins                  0.020000            1            0.020000\n",
       "Jon Kasdan                  0.020000            1            0.020000\n",
       "Paco Cabezas                0.030000            1            0.030000\n",
       "Julia Leigh                 0.030000            1            0.030000\n",
       "Justin Kelly                0.030000            1            0.030000\n",
       "Drake Doremus               0.030000            1            0.030000\n",
       "Jon S. Baird                0.030000            1            0.030000\n",
       "Simon Stone                 0.030000            1            0.030000\n",
       "Roger Spottiswoode          0.040000            1            0.040000\n",
       "James Watkins               0.040000            1            0.040000\n",
       "David Ross                  0.040000            1            0.040000\n",
       "Chris Evans                 0.040000            1            0.040000\n",
       "François Simard             0.050000            1            0.050000\n",
       "Alejandro Amenábar          0.050000            1            0.050000\n",
       "Jon Watts                   0.050000            1            0.050000\n",
       "Biyi Bandele                0.050000            1            0.050000\n",
       "David Schwimmer             0.060000            1            0.060000\n",
       "James Ward Byrkit           0.070000            1            0.070000\n",
       "Ryûhei Kitamura             0.070000            1            0.070000\n",
       "Matteo Garrone              0.080000            1            0.080000\n",
       "Steven R. Monroe            0.090000            1            0.090000\n",
       "Giuseppe Tornatore          0.090000            1            0.090000\n",
       "Philippe Falardeau          0.110000            1            0.110000\n",
       "...                              ...          ...                 ...\n",
       "Don Hall                  222.490000            1          222.490000\n",
       "Shane Black               222.620000            2          111.310000\n",
       "Michael Bay               236.886667            6           39.481111\n",
       "Mark Andrews              237.280000            1          237.280000\n",
       "Robert Stromberg          241.410000            1          241.410000\n",
       "Jon Favreau               256.400000            4           64.100000\n",
       "Andrew Stanton            261.053333            3           87.017778\n",
       "Dan Scanlon               268.490000            1          268.490000\n",
       "Christophe Lourdelet      270.320000            1          270.320000\n",
       "David Yates               271.751667            6           45.291944\n",
       "Sam Raimi                 285.715000            2          142.857500\n",
       "Bill Condon               286.790000            2          143.395000\n",
       "David Slade               300.520000            1          300.520000\n",
       "Christopher Nolan         303.018000            5           60.603600\n",
       "Pierre Coffin             309.775000            2          154.887500\n",
       "Pete Docter               324.715000            2          162.357500\n",
       "Francis Lawrence          324.952500            4           81.238125\n",
       "Anthony Russo             333.915000            2          166.957500\n",
       "Kyle Balda                336.030000            1          336.030000\n",
       "J.J. Abrams               336.690000            5           67.338000\n",
       "Byron Howard              341.260000            1          341.260000\n",
       "Tim Miller                363.020000            1          363.020000\n",
       "Gareth Edwards            366.415000            2          183.207500\n",
       "Chris Renaud              368.310000            1          368.310000\n",
       "Chris Buck                400.740000            1          400.740000\n",
       "Gary Ross                 408.000000            1          408.000000\n",
       "Lee Unkrich               414.980000            1          414.980000\n",
       "Joss Whedon               541.135000            2          270.567500\n",
       "Colin Trevorrow           652.180000            1          652.180000\n",
       "James Cameron             760.510000            1          760.510000\n",
       "\n",
       "[540 rows x 3 columns]"
      ]
     },
     "execution_count": 44,
     "metadata": {},
     "output_type": "execute_result"
    }
   ],
   "source": [
    "#Create a dataframe with Mean Revenue and Movie Count by Director\n",
    "\n",
    "df_director = df.groupby(['Director'])[['Revenue (Millions)']].agg(['mean', 'count'])\n",
    "df_director.columns = ['Mean_Revenue_M', 'Movie_Count']\n",
    "df_director = df_director.sort_values('Mean_Revenue_M')\n",
    "df_director = df_director[df_director['Mean_Revenue_M'].notna()]\n",
    "df_director['Mean_Rev_Per_Movie'] = df_director['Mean_Revenue_M'] / df_director['Movie_Count']\n",
    "df_director"
   ]
  },
  {
   "cell_type": "code",
   "execution_count": 45,
   "metadata": {},
   "outputs": [
    {
     "data": {
      "text/plain": [
       "Text(0.5, 1.0, 'Mean Revenue by Directors (Top 10)')"
      ]
     },
     "execution_count": 45,
     "metadata": {},
     "output_type": "execute_result"
    },
    {
     "data": {
      "image/png": "[encoded data removed]",
      "text/plain": [
       "<Figure size 432x288 with 1 Axes>"
      ]
     },
     "metadata": {
      "needs_background": "light"
     },
     "output_type": "display_data"
    }
   ],
   "source": [
    "#Plot the top 10 Directors by Revenue\n",
    "\n",
    "top_directors_rev = df_director.tail(10)\n",
    "\n",
    "fig, ax = plt.subplots()\n",
    "_ = sns.barplot(x='Mean_Revenue_M',y='Director', data=top_directors_rev.reset_index(),ax=ax)\n",
    "plt.ylabel('Top 10 Directors')\n",
    "plt.xlabel('Mean Revenue (Millions)')\n",
    "plt.title('Mean Revenue by Directors (Top 10)')"
   ]
  },
  {
   "cell_type": "code",
   "execution_count": 48,
   "metadata": {},
   "outputs": [
    {
     "name": "stdout",
     "output_type": "stream",
     "text": [
      "                    Mean_Revenue_M  Movie_Count  Mean_Rev_Per_Movie\n",
      "Director                                                           \n",
      "Justin Lin              164.958000            5           32.991600\n",
      "M. Night Shyamalan       74.098000            5           14.819600\n",
      "Woody Allen              28.238000            5            5.647600\n",
      "Christopher Nolan       303.018000            5           60.603600\n",
      "David Fincher           105.544000            5           21.108800\n",
      "J.J. Abrams             336.690000            5           67.338000\n",
      "Michael Bay             236.886667            6           39.481111\n",
      "Paul W.S. Anderson       34.820000            6            5.803333\n",
      "David Yates             271.751667            6           45.291944\n",
      "Ridley Scott             89.882500            8           11.235313\n"
     ]
    }
   ],
   "source": [
    "#How many movies did the top 10 Directors make from 2006 to 2016? \n",
    "\n",
    "top_directors_count = df_director.sort_values('Movie_Count').tail(10)\n",
    "print(top_directors_count)"
   ]
  },
  {
   "cell_type": "code",
   "execution_count": 47,
   "metadata": {},
   "outputs": [
    {
     "data": {
      "text/plain": [
       "Text(0.5, 1.0, 'Mean Revenue by Directors (Top 10)')"
      ]
     },
     "execution_count": 47,
     "metadata": {},
     "output_type": "execute_result"
    },
    {
     "data": {
      "image/png": "[encoded data removed]",
      "text/plain": [
       "<Figure size 432x288 with 1 Axes>"
      ]
     },
     "metadata": {
      "needs_background": "light"
     },
     "output_type": "display_data"
    }
   ],
   "source": [
    "#Plot of top 10 Directors film count \n",
    "\n",
    "fig, ax = plt.subplots()\n",
    "_ = sns.barplot(x='Movie_Count',y='Director', data=top_directors_count.reset_index(),ax=ax)\n",
    "plt.ylabel('Directors with Most Movies')\n",
    "plt.xlabel('Movie Count')\n",
    "plt.title('Mean Revenue by Directors (Top 10)')"
   ]
  },
  {
   "cell_type": "code",
   "execution_count": 49,
   "metadata": {},
   "outputs": [
    {
     "name": "stdout",
     "output_type": "stream",
     "text": [
      "                 Mean_Revenue_M  Movie_Count  Mean_Rev_Per_Movie\n",
      "Director                                                        \n",
      "David Slade              300.52            1              300.52\n",
      "Kyle Balda               336.03            1              336.03\n",
      "Byron Howard             341.26            1              341.26\n",
      "Tim Miller               363.02            1              363.02\n",
      "Chris Renaud             368.31            1              368.31\n",
      "Chris Buck               400.74            1              400.74\n",
      "Gary Ross                408.00            1              408.00\n",
      "Lee Unkrich              414.98            1              414.98\n",
      "Colin Trevorrow          652.18            1              652.18\n",
      "James Cameron            760.51            1              760.51\n"
     ]
    }
   ],
   "source": [
    "#Of the top Directors what was there mean Revenue per film that they made? \n",
    "#All only made one film that made the list of most popular films from 2006-2016! \n",
    "\n",
    "top_directors_mean_rev = df_director.sort_values('Mean_Rev_Per_Movie').tail(10)\n",
    "print(top_directors_mean_rev)"
   ]
  },
  {
   "cell_type": "code",
   "execution_count": 50,
   "metadata": {},
   "outputs": [
    {
     "data": {
      "text/plain": [
       "Text(0.5, 1.0, 'Mean Revenue per Movie by Directors (Top 10)')"
      ]
     },
     "execution_count": 50,
     "metadata": {},
     "output_type": "execute_result"
    },
    {
     "data": {
      "image/png": "[encoded data removed]",
      "text/plain": [
       "<Figure size 432x288 with 1 Axes>"
      ]
     },
     "metadata": {
      "needs_background": "light"
     },
     "output_type": "display_data"
    }
   ],
   "source": [
    "#Plot of top directors by mean Revenue (They each only had one film that made the list)\n",
    "\n",
    "fig, ax = plt.subplots()\n",
    "_ = sns.barplot(x='Mean_Rev_Per_Movie',y='Director', data=top_directors_mean_rev.reset_index(),ax=ax)\n",
    "plt.ylabel('Top 10 Directors (Mean Revenue per Movie)')\n",
    "plt.xlabel('Movie Count')\n",
    "plt.title('Mean Revenue per Movie by Directors (Top 10)')"
   ]
  },
  {
   "cell_type": "code",
   "execution_count": 51,
   "metadata": {},
   "outputs": [
    {
     "data": {
      "text/plain": [
       "4    999\n",
       "3      1\n",
       "Name: len_actors, dtype: int64"
      ]
     },
     "execution_count": 51,
     "metadata": {},
     "output_type": "execute_result"
    }
   ],
   "source": [
    "#How many actors are listed in the Actor Variable? \n",
    "#999 rows have 4 actors listed and 1 row has 3 actors listed\n",
    "\n",
    "check = df.copy()\n",
    "check['Actor_list'] = check.Actors.str.split(',')\n",
    "check['len_actors'] = check.Actor_list.str.len()\n",
    "check['len_actors'].value_counts()"
   ]
  },
  {
   "cell_type": "code",
   "execution_count": 53,
   "metadata": {},
   "outputs": [
    {
     "data": {
      "text/html": [
       "<div>\n",
       "<style scoped>\n",
       "    .dataframe tbody tr th:only-of-type {\n",
       "        vertical-align: middle;\n",
       "    }\n",
       "\n",
       "    .dataframe tbody tr th {\n",
       "        vertical-align: top;\n",
       "    }\n",
       "\n",
       "    .dataframe thead th {\n",
       "        text-align: right;\n",
       "    }\n",
       "</style>\n",
       "<table border=\"1\" class=\"dataframe\">\n",
       "  <thead>\n",
       "    <tr style=\"text-align: right;\">\n",
       "      <th></th>\n",
       "      <th>Rank</th>\n",
       "      <th>Title</th>\n",
       "      <th>Genre</th>\n",
       "      <th>Description</th>\n",
       "      <th>Director</th>\n",
       "      <th>Actors</th>\n",
       "      <th>Year</th>\n",
       "      <th>Runtime (Minutes)</th>\n",
       "      <th>Rating</th>\n",
       "      <th>Votes</th>\n",
       "      <th>...</th>\n",
       "      <th>Musical</th>\n",
       "      <th>Mystery</th>\n",
       "      <th>Romance</th>\n",
       "      <th>Sci-Fi</th>\n",
       "      <th>Sport</th>\n",
       "      <th>Thriller</th>\n",
       "      <th>War</th>\n",
       "      <th>Western</th>\n",
       "      <th>Actor_list</th>\n",
       "      <th>len_actors</th>\n",
       "    </tr>\n",
       "  </thead>\n",
       "  <tbody>\n",
       "    <tr>\n",
       "      <th>622</th>\n",
       "      <td>623</td>\n",
       "      <td>Antichrist</td>\n",
       "      <td>Drama,Horror</td>\n",
       "      <td>A grieving couple retreat to their cabin in th...</td>\n",
       "      <td>Lars von Trier</td>\n",
       "      <td>Willem Dafoe, Charlotte Gainsbourg, Storm Ache...</td>\n",
       "      <td>2009</td>\n",
       "      <td>108</td>\n",
       "      <td>6.6</td>\n",
       "      <td>94069</td>\n",
       "      <td>...</td>\n",
       "      <td>0</td>\n",
       "      <td>0</td>\n",
       "      <td>0</td>\n",
       "      <td>0</td>\n",
       "      <td>0</td>\n",
       "      <td>0</td>\n",
       "      <td>0</td>\n",
       "      <td>0</td>\n",
       "      <td>[Willem Dafoe,  Charlotte Gainsbourg,  Storm A...</td>\n",
       "      <td>3</td>\n",
       "    </tr>\n",
       "  </tbody>\n",
       "</table>\n",
       "<p>1 rows × 34 columns</p>\n",
       "</div>"
      ],
      "text/plain": [
       "     Rank       Title         Genre  \\\n",
       "622   623  Antichrist  Drama,Horror   \n",
       "\n",
       "                                           Description        Director  \\\n",
       "622  A grieving couple retreat to their cabin in th...  Lars von Trier   \n",
       "\n",
       "                                                Actors  Year  \\\n",
       "622  Willem Dafoe, Charlotte Gainsbourg, Storm Ache...  2009   \n",
       "\n",
       "     Runtime (Minutes)  Rating  Votes  ...  Musical  Mystery  Romance  Sci-Fi  \\\n",
       "622                108     6.6  94069  ...        0        0        0       0   \n",
       "\n",
       "     Sport  Thriller  War  Western  \\\n",
       "622      0         0    0        0   \n",
       "\n",
       "                                            Actor_list  len_actors  \n",
       "622  [Willem Dafoe,  Charlotte Gainsbourg,  Storm A...           3  \n",
       "\n",
       "[1 rows x 34 columns]"
      ]
     },
     "execution_count": 53,
     "metadata": {},
     "output_type": "execute_result"
    }
   ],
   "source": [
    "#Verify the row with only 3 actors\n",
    "\n",
    "check[check.len_actors == 3]"
   ]
  },
  {
   "cell_type": "code",
   "execution_count": 55,
   "metadata": {},
   "outputs": [
    {
     "name": "stdout",
     "output_type": "stream",
     "text": [
      "Verified Actors are only 3\n"
     ]
    },
    {
     "data": {
      "text/plain": [
       "'Willem Dafoe, Charlotte Gainsbourg, Storm Acheche Sahlstrøm'"
      ]
     },
     "execution_count": 55,
     "metadata": {},
     "output_type": "execute_result"
    }
   ],
   "source": [
    "#Checked IMDB and there are only 3 actors listed. Not an error\n",
    "print('Verified Actors are only 3')\n",
    "check.loc[622,'Actors']"
   ]
  },
  {
   "cell_type": "code",
   "execution_count": null,
   "metadata": {},
   "outputs": [],
   "source": []
  }
 ],
 "metadata": {
  "kernelspec": {
   "display_name": "Python 3",
   "language": "python",
   "name": "python3"
  },
  "language_info": {
   "codemirror_mode": {
    "name": "ipython",
    "version": 3
   },
   "file_extension": ".py",
   "mimetype": "text/x-python",
   "name": "python",
   "nbconvert_exporter": "python",
   "pygments_lexer": "ipython3",
   "version": "3.7.3"
  }
 },
 "nbformat": 4,
 "nbformat_minor": 2
}
